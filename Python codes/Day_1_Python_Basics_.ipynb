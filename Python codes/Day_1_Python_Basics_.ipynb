{
  "nbformat": 4,
  "nbformat_minor": 0,
  "metadata": {
    "colab": {
      "provenance": []
    },
    "kernelspec": {
      "name": "python3",
      "display_name": "Python 3"
    },
    "language_info": {
      "name": "python"
    }
  },
  "cells": [
    {
      "cell_type": "markdown",
      "source": [
        "# Print in Python"
      ],
      "metadata": {
        "id": "dfIC5-ug0blZ"
      }
    },
    {
      "cell_type": "code",
      "execution_count": 1,
      "metadata": {
        "colab": {
          "base_uri": "https://localhost:8080/"
        },
        "id": "CT0nT--JxnJS",
        "outputId": "f088d6ae-0738-40b4-87ca-5fc5f2251680"
      },
      "outputs": [
        {
          "output_type": "stream",
          "name": "stdout",
          "text": [
            "Data Science\n"
          ]
        }
      ],
      "source": [
        "print(\"Data Science\")"
      ]
    },
    {
      "cell_type": "code",
      "source": [
        "# Case Sensitive\n",
        "# Print(\"Data Science\")  XXXXX\n",
        "# print[\"Machine Learning\"]  XXXXX"
      ],
      "metadata": {
        "id": "Z6r9Bqcy0doO"
      },
      "execution_count": 6,
      "outputs": []
    },
    {
      "cell_type": "markdown",
      "source": [
        "# Mathemetical Operations"
      ],
      "metadata": {
        "id": "SO7Lm7ke1Ei2"
      }
    },
    {
      "cell_type": "code",
      "source": [
        "# Addition\n",
        "a=10\n",
        "b=25\n",
        "c=a+b\n",
        "print(c)"
      ],
      "metadata": {
        "colab": {
          "base_uri": "https://localhost:8080/"
        },
        "id": "LCaf7I8A0kxx",
        "outputId": "35570d1e-bfba-494d-99ff-28d163933c3f"
      },
      "execution_count": 7,
      "outputs": [
        {
          "output_type": "stream",
          "name": "stdout",
          "text": [
            "35\n"
          ]
        }
      ]
    },
    {
      "cell_type": "code",
      "source": [
        "# Multiplication\n",
        "a=10\n",
        "b=22\n",
        "c=a*b\n",
        "print(c)"
      ],
      "metadata": {
        "colab": {
          "base_uri": "https://localhost:8080/"
        },
        "id": "EZo9XYso0xTB",
        "outputId": "1e33aab8-e036-4e0e-8826-928f059b5615"
      },
      "execution_count": 8,
      "outputs": [
        {
          "output_type": "stream",
          "name": "stdout",
          "text": [
            "220\n"
          ]
        }
      ]
    },
    {
      "cell_type": "code",
      "source": [
        "# Division\n",
        "a=10\n",
        "b=25\n",
        "c=b/a\n",
        "print(c)"
      ],
      "metadata": {
        "colab": {
          "base_uri": "https://localhost:8080/"
        },
        "id": "5-XOZrjF1XNq",
        "outputId": "8a64c15d-e797-4361-b550-cda6906323c1"
      },
      "execution_count": 9,
      "outputs": [
        {
          "output_type": "stream",
          "name": "stdout",
          "text": [
            "2.5\n"
          ]
        }
      ]
    },
    {
      "cell_type": "code",
      "source": [
        "# Substraction\n",
        "a=10\n",
        "b=25\n",
        "c=a-b\n",
        "print(c)"
      ],
      "metadata": {
        "colab": {
          "base_uri": "https://localhost:8080/"
        },
        "id": "_V1PE27u1akq",
        "outputId": "7e2f1e90-994b-45ed-ce05-9580ff1cecbc"
      },
      "execution_count": 10,
      "outputs": [
        {
          "output_type": "stream",
          "name": "stdout",
          "text": [
            "-15\n"
          ]
        }
      ]
    },
    {
      "cell_type": "code",
      "source": [
        "# Quotient\n",
        "a=10\n",
        "b=25\n",
        "c=b//a\n",
        "print(c)"
      ],
      "metadata": {
        "colab": {
          "base_uri": "https://localhost:8080/"
        },
        "id": "o-CS74gN1loA",
        "outputId": "6c865259-1c89-43e1-8d3a-6acfcc17336f"
      },
      "execution_count": 11,
      "outputs": [
        {
          "output_type": "stream",
          "name": "stdout",
          "text": [
            "2\n"
          ]
        }
      ]
    },
    {
      "cell_type": "code",
      "source": [
        "# Remainder\n",
        "a=10\n",
        "b=25\n",
        "c=b%a\n",
        "print(c)"
      ],
      "metadata": {
        "colab": {
          "base_uri": "https://localhost:8080/"
        },
        "id": "8tobuf9U2L6Z",
        "outputId": "f41c7a3e-3638-49c7-8e63-e7b2292439fd"
      },
      "execution_count": 12,
      "outputs": [
        {
          "output_type": "stream",
          "name": "stdout",
          "text": [
            "5\n"
          ]
        }
      ]
    },
    {
      "cell_type": "markdown",
      "source": [
        "# Power in Python"
      ],
      "metadata": {
        "id": "Vm-uCCDe3As6"
      }
    },
    {
      "cell_type": "code",
      "source": [
        "# Power operator in Python\n",
        "3**2"
      ],
      "metadata": {
        "colab": {
          "base_uri": "https://localhost:8080/"
        },
        "id": "6sjSjDrP2l4k",
        "outputId": "9a4845c3-0203-425c-de64-c718dcada4a6"
      },
      "execution_count": 15,
      "outputs": [
        {
          "output_type": "execute_result",
          "data": {
            "text/plain": [
              "9"
            ]
          },
          "metadata": {},
          "execution_count": 15
        }
      ]
    },
    {
      "cell_type": "code",
      "source": [
        "4**5"
      ],
      "metadata": {
        "colab": {
          "base_uri": "https://localhost:8080/"
        },
        "id": "klgeXesQ3LmK",
        "outputId": "ce71e0d7-ee07-4c89-fc1e-8e01989c55a8"
      },
      "execution_count": 14,
      "outputs": [
        {
          "output_type": "execute_result",
          "data": {
            "text/plain": [
              "1024"
            ]
          },
          "metadata": {},
          "execution_count": 14
        }
      ]
    },
    {
      "cell_type": "code",
      "source": [
        "2**7"
      ],
      "metadata": {
        "colab": {
          "base_uri": "https://localhost:8080/"
        },
        "id": "dbqelgWF3Ng2",
        "outputId": "1aa5d149-51c7-4b0a-e9b5-0dc048092ae3"
      },
      "execution_count": 17,
      "outputs": [
        {
          "output_type": "execute_result",
          "data": {
            "text/plain": [
              "128"
            ]
          },
          "metadata": {},
          "execution_count": 17
        }
      ]
    },
    {
      "cell_type": "markdown",
      "source": [
        "# Data Type in Python"
      ],
      "metadata": {
        "id": "JwaAZ1RJ3lvX"
      }
    },
    {
      "cell_type": "code",
      "source": [
        "a=10\n",
        "print(type(a))"
      ],
      "metadata": {
        "colab": {
          "base_uri": "https://localhost:8080/"
        },
        "id": "PZ9qigmr3Zwx",
        "outputId": "120e24a9-604d-4e99-c502-9c276bbf15a0"
      },
      "execution_count": 18,
      "outputs": [
        {
          "output_type": "stream",
          "name": "stdout",
          "text": [
            "<class 'int'>\n"
          ]
        }
      ]
    },
    {
      "cell_type": "code",
      "source": [
        "age=10   # Variable\n",
        "print(age)"
      ],
      "metadata": {
        "colab": {
          "base_uri": "https://localhost:8080/"
        },
        "id": "GTJa0Vdb3rjx",
        "outputId": "96a833f5-fd1e-494a-a654-42ee8907802c"
      },
      "execution_count": 20,
      "outputs": [
        {
          "output_type": "stream",
          "name": "stdout",
          "text": [
            "10\n"
          ]
        }
      ]
    },
    {
      "cell_type": "code",
      "source": [
        "print(\"Sachin Saxena\")"
      ],
      "metadata": {
        "colab": {
          "base_uri": "https://localhost:8080/"
        },
        "id": "zuQnOdhq37Sz",
        "outputId": "44546136-9ebb-476a-c78d-4d42e94b4431"
      },
      "execution_count": 21,
      "outputs": [
        {
          "output_type": "stream",
          "name": "stdout",
          "text": [
            "Sachin Saxena\n"
          ]
        }
      ]
    },
    {
      "cell_type": "code",
      "source": [
        "sachin=48\n",
        "print(sachin)"
      ],
      "metadata": {
        "colab": {
          "base_uri": "https://localhost:8080/"
        },
        "id": "CXKIbB3g4G4v",
        "outputId": "c549afc0-6aa8-463e-b7ee-0d0d6e76b56a"
      },
      "execution_count": 23,
      "outputs": [
        {
          "output_type": "stream",
          "name": "stdout",
          "text": [
            "48\n"
          ]
        }
      ]
    },
    {
      "cell_type": "code",
      "source": [
        "\n",
        "print(\"MJP University\")"
      ],
      "metadata": {
        "colab": {
          "base_uri": "https://localhost:8080/"
        },
        "id": "s5_MASqg4fBU",
        "outputId": "b24c8238-fc81-4a1c-c80f-153e50217482"
      },
      "execution_count": 24,
      "outputs": [
        {
          "output_type": "stream",
          "name": "stdout",
          "text": [
            "MJP University\n"
          ]
        }
      ]
    },
    {
      "cell_type": "code",
      "source": [
        "uni=\"MJP University\"\n",
        "print('uni')"
      ],
      "metadata": {
        "colab": {
          "base_uri": "https://localhost:8080/"
        },
        "id": "srzJ63xO4utS",
        "outputId": "b05021ca-5b72-43c4-b2d1-43efcbe8eff6"
      },
      "execution_count": 26,
      "outputs": [
        {
          "output_type": "stream",
          "name": "stdout",
          "text": [
            "uni\n"
          ]
        }
      ]
    },
    {
      "cell_type": "code",
      "source": [
        "name='Nishigandha'\n",
        "print(name)"
      ],
      "metadata": {
        "colab": {
          "base_uri": "https://localhost:8080/"
        },
        "id": "FR0X_GmX478X",
        "outputId": "410d9d68-3b8a-4ed0-fa13-17064cdd6648"
      },
      "execution_count": 27,
      "outputs": [
        {
          "output_type": "stream",
          "name": "stdout",
          "text": [
            "Nishigandha\n"
          ]
        }
      ]
    },
    {
      "cell_type": "code",
      "source": [
        "\n",
        "print('What is your name?')"
      ],
      "metadata": {
        "colab": {
          "base_uri": "https://localhost:8080/"
        },
        "id": "-8dGL5Yf5Gxe",
        "outputId": "792c28ad-9f5b-4863-b0eb-2a3872e3e3f3"
      },
      "execution_count": 28,
      "outputs": [
        {
          "output_type": "stream",
          "name": "stdout",
          "text": [
            "What is your name?\n"
          ]
        }
      ]
    },
    {
      "cell_type": "markdown",
      "source": [
        "# Input Function in Python"
      ],
      "metadata": {
        "id": "OZ5G_5Zz5yTK"
      }
    },
    {
      "cell_type": "code",
      "source": [
        "name=input(\"What is your name? \")\n",
        "print(\"Hey \", name, \"How are you today?\")"
      ],
      "metadata": {
        "colab": {
          "base_uri": "https://localhost:8080/"
        },
        "id": "D3MZeDLv5Mb1",
        "outputId": "8e74acfe-be24-491b-ea25-1d0ebd3a29ab"
      },
      "execution_count": 32,
      "outputs": [
        {
          "output_type": "stream",
          "name": "stdout",
          "text": [
            "What is your name? Devraj\n",
            "Hey  Devraj How are you today?\n"
          ]
        }
      ]
    },
    {
      "cell_type": "code",
      "source": [],
      "metadata": {
        "id": "_08AUMan5UG8"
      },
      "execution_count": null,
      "outputs": []
    }
  ]
}