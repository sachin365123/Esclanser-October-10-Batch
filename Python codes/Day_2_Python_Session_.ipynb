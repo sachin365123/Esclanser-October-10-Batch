{
  "nbformat": 4,
  "nbformat_minor": 0,
  "metadata": {
    "colab": {
      "provenance": []
    },
    "kernelspec": {
      "name": "python3",
      "display_name": "Python 3"
    },
    "language_info": {
      "name": "python"
    }
  },
  "cells": [
    {
      "cell_type": "markdown",
      "source": [
        "# Variables types in Python"
      ],
      "metadata": {
        "id": "j7LwTzS44FX0"
      }
    },
    {
      "cell_type": "code",
      "source": [
        "# String\n",
        "var= 'Praful'\n",
        "print(var)"
      ],
      "metadata": {
        "colab": {
          "base_uri": "https://localhost:8080/"
        },
        "id": "jK_bJU1a4KT4",
        "outputId": "e0c3e13a-ab21-4065-abc1-f11d3abe39c9"
      },
      "execution_count": 2,
      "outputs": [
        {
          "output_type": "stream",
          "name": "stdout",
          "text": [
            "Praful\n"
          ]
        }
      ]
    },
    {
      "cell_type": "code",
      "source": [
        "# Integer\n",
        "var= 15\n",
        "print(var)"
      ],
      "metadata": {
        "colab": {
          "base_uri": "https://localhost:8080/"
        },
        "id": "JU_Jx8l-4UMP",
        "outputId": "07ac0b8d-206b-4984-9af1-89553119d51f"
      },
      "execution_count": 3,
      "outputs": [
        {
          "output_type": "stream",
          "name": "stdout",
          "text": [
            "15\n"
          ]
        }
      ]
    },
    {
      "cell_type": "code",
      "source": [
        "# Boolean\n",
        "var= True\n",
        "print(var)"
      ],
      "metadata": {
        "colab": {
          "base_uri": "https://localhost:8080/"
        },
        "id": "KQlyXl8q4aVE",
        "outputId": "e7d00297-594d-4b26-8135-ee7a983143e4"
      },
      "execution_count": 4,
      "outputs": [
        {
          "output_type": "stream",
          "name": "stdout",
          "text": [
            "True\n"
          ]
        }
      ]
    },
    {
      "cell_type": "code",
      "source": [
        "# Float\n",
        "var= 25.6\n",
        "print(var)"
      ],
      "metadata": {
        "colab": {
          "base_uri": "https://localhost:8080/"
        },
        "id": "S5lPZB5h4gNs",
        "outputId": "1eb131f4-0dc9-4fbb-ec80-db15374043b5"
      },
      "execution_count": 5,
      "outputs": [
        {
          "output_type": "stream",
          "name": "stdout",
          "text": [
            "25.6\n"
          ]
        }
      ]
    },
    {
      "cell_type": "code",
      "source": [
        "# Integer\n",
        "var1=10000000000\n",
        "print(var1)\n",
        "var= 1_00_000\n",
        "print(var)"
      ],
      "metadata": {
        "colab": {
          "base_uri": "https://localhost:8080/"
        },
        "id": "9sD7zgcc5aZD",
        "outputId": "f24ac2a2-d88b-4707-d4d5-1e25a48aaa48"
      },
      "execution_count": 9,
      "outputs": [
        {
          "output_type": "stream",
          "name": "stdout",
          "text": [
            "10000000000\n",
            "100000\n"
          ]
        }
      ]
    },
    {
      "cell_type": "code",
      "source": [
        "# Integer\n",
        "var= 1,00,000\n",
        "print(var)"
      ],
      "metadata": {
        "colab": {
          "base_uri": "https://localhost:8080/"
        },
        "id": "eFPosFPF5fMM",
        "outputId": "84c7d157-bf23-43f0-e0d3-871377fd0597"
      },
      "execution_count": 7,
      "outputs": [
        {
          "output_type": "stream",
          "name": "stdout",
          "text": [
            "(1, 0, 0)\n"
          ]
        }
      ]
    },
    {
      "cell_type": "code",
      "source": [
        "# Float\n",
        "var= 1.2e2\n",
        "print(var)"
      ],
      "metadata": {
        "colab": {
          "base_uri": "https://localhost:8080/"
        },
        "id": "4gbB-lOl5zyN",
        "outputId": "482b6c9d-a760-422f-ca4b-2823a818c61e"
      },
      "execution_count": 10,
      "outputs": [
        {
          "output_type": "stream",
          "name": "stdout",
          "text": [
            "120.0\n"
          ]
        }
      ]
    },
    {
      "cell_type": "code",
      "source": [
        "# Float\n",
        "var= 1.2e2\n",
        "print(var)"
      ],
      "metadata": {
        "colab": {
          "base_uri": "https://localhost:8080/"
        },
        "id": "hXXPo1MV6X-O",
        "outputId": "3b711d45-b001-4138-a228-6af2785a6d5e"
      },
      "execution_count": 17,
      "outputs": [
        {
          "output_type": "stream",
          "name": "stdout",
          "text": [
            "120.0\n"
          ]
        }
      ]
    },
    {
      "cell_type": "code",
      "source": [
        "# Float\n",
        "var= 2.56e10\n",
        "print(var)"
      ],
      "metadata": {
        "colab": {
          "base_uri": "https://localhost:8080/"
        },
        "id": "It2i1Ymj6B0B",
        "outputId": "83358088-f5b0-451e-faab-49e6892f9a20"
      },
      "execution_count": 13,
      "outputs": [
        {
          "output_type": "stream",
          "name": "stdout",
          "text": [
            "25600000000.0\n"
          ]
        }
      ]
    },
    {
      "cell_type": "code",
      "source": [
        "1.2*100"
      ],
      "metadata": {
        "colab": {
          "base_uri": "https://localhost:8080/"
        },
        "id": "7OwZw9oD58qB",
        "outputId": "077b327e-db8c-4bea-c15b-757a94823097"
      },
      "execution_count": 11,
      "outputs": [
        {
          "output_type": "execute_result",
          "data": {
            "text/plain": [
              "120.0"
            ]
          },
          "metadata": {},
          "execution_count": 11
        }
      ]
    },
    {
      "cell_type": "markdown",
      "source": [
        "# Opeartors"
      ],
      "metadata": {
        "id": "XiKHIBDy6l2K"
      }
    },
    {
      "cell_type": "code",
      "execution_count": 21,
      "metadata": {
        "colab": {
          "base_uri": "https://localhost:8080/"
        },
        "id": "fjyHJ6WE3Du-",
        "outputId": "e0f16fa6-edc4-48d9-b796-727fd4317a8d"
      },
      "outputs": [
        {
          "output_type": "stream",
          "name": "stdout",
          "text": [
            "False\n"
          ]
        }
      ],
      "source": [
        "operators=2>3\n",
        "print(operators)"
      ]
    },
    {
      "cell_type": "code",
      "source": [
        "operators=6>2\n",
        "print(operators)"
      ],
      "metadata": {
        "colab": {
          "base_uri": "https://localhost:8080/"
        },
        "id": "UZmqS2036wDC",
        "outputId": "760f655d-236d-43b9-b013-d56aa3968643"
      },
      "execution_count": 19,
      "outputs": [
        {
          "output_type": "stream",
          "name": "stdout",
          "text": [
            "True\n"
          ]
        }
      ]
    },
    {
      "cell_type": "code",
      "source": [
        "if operators==True:\n",
        "  print(\"Hello\")\n",
        "else:\n",
        "  print(\"Not Hi\")"
      ],
      "metadata": {
        "colab": {
          "base_uri": "https://localhost:8080/"
        },
        "id": "badnsYU_61rR",
        "outputId": "9a2b534b-b642-453c-ba43-12ecf4fe4665"
      },
      "execution_count": 22,
      "outputs": [
        {
          "output_type": "stream",
          "name": "stdout",
          "text": [
            "Not Hi\n"
          ]
        }
      ]
    },
    {
      "cell_type": "code",
      "source": [
        "score=int(input(\"What is your Score in Maths? \"))\n",
        "\n",
        "if score>33:\n",
        "  print(\"Pass\")\n",
        "else:\n",
        "  print(\"Not Pass\")"
      ],
      "metadata": {
        "colab": {
          "base_uri": "https://localhost:8080/"
        },
        "id": "PX2k_ljM7HtD",
        "outputId": "ae31158b-ed51-4957-bfee-675b0a41d2cb"
      },
      "execution_count": 26,
      "outputs": [
        {
          "output_type": "stream",
          "name": "stdout",
          "text": [
            "What is your Score in Maths? 56\n",
            "Pass\n"
          ]
        }
      ]
    },
    {
      "cell_type": "code",
      "source": [
        "# Declare my marks in Maths\n",
        "score=25\n",
        "\n",
        "# Increment this mark by 5\n",
        "score=score+5\n",
        "# score+=5\n",
        "\n",
        "# print final score\n",
        "print(score)"
      ],
      "metadata": {
        "colab": {
          "base_uri": "https://localhost:8080/"
        },
        "id": "VCpX3JSd7xdd",
        "outputId": "87cfb2bf-d660-4f38-9067-f28056ecb5ef"
      },
      "execution_count": 28,
      "outputs": [
        {
          "output_type": "stream",
          "name": "stdout",
          "text": [
            "30\n"
          ]
        }
      ]
    },
    {
      "cell_type": "code",
      "source": [
        "# Declare my marks in Maths\n",
        "score=50\n",
        "\n",
        "# Increment this mark by 5\n",
        "# score=score*3\n",
        "score*=3\n",
        "\n",
        "# print final score\n",
        "print(score)"
      ],
      "metadata": {
        "colab": {
          "base_uri": "https://localhost:8080/"
        },
        "id": "fxKQU64N8XTm",
        "outputId": "183ff3c8-bfc0-45f0-e8a0-d713f8b4ce4c"
      },
      "execution_count": 30,
      "outputs": [
        {
          "output_type": "stream",
          "name": "stdout",
          "text": [
            "150\n"
          ]
        }
      ]
    },
    {
      "cell_type": "code",
      "source": [
        "math_score= 52\n",
        "math_score=math_score%2\n",
        "print(math_score)"
      ],
      "metadata": {
        "colab": {
          "base_uri": "https://localhost:8080/"
        },
        "id": "qcjhsC4R8wgT",
        "outputId": "f9ce5915-f913-429e-a30c-970b9cd25cf1"
      },
      "execution_count": 31,
      "outputs": [
        {
          "output_type": "stream",
          "name": "stdout",
          "text": [
            "0\n"
          ]
        }
      ]
    },
    {
      "cell_type": "code",
      "source": [
        "math_score= 52\n",
        "math_score=math_score//2\n",
        "print(math_score)"
      ],
      "metadata": {
        "colab": {
          "base_uri": "https://localhost:8080/"
        },
        "id": "OGAOIVEb9O4a",
        "outputId": "399f8e18-cd46-4ed5-b7cf-1dd8766e8de8"
      },
      "execution_count": 32,
      "outputs": [
        {
          "output_type": "stream",
          "name": "stdout",
          "text": [
            "26\n"
          ]
        }
      ]
    },
    {
      "cell_type": "code",
      "source": [
        "# Integer Division\n",
        "-10//3"
      ],
      "metadata": {
        "colab": {
          "base_uri": "https://localhost:8080/"
        },
        "id": "DrFuYaiC9hI5",
        "outputId": "936bd345-fc35-4eb9-e0d8-1115b3fb1a87"
      },
      "execution_count": 33,
      "outputs": [
        {
          "output_type": "execute_result",
          "data": {
            "text/plain": [
              "-4"
            ]
          },
          "metadata": {},
          "execution_count": 33
        }
      ]
    },
    {
      "cell_type": "code",
      "source": [
        "# Integer Division\n",
        "20//3"
      ],
      "metadata": {
        "colab": {
          "base_uri": "https://localhost:8080/"
        },
        "id": "VtQ0YYkY91ac",
        "outputId": "43b08e95-57a3-40e8-d3e7-a0d2dbaa20b1"
      },
      "execution_count": 35,
      "outputs": [
        {
          "output_type": "execute_result",
          "data": {
            "text/plain": [
              "6"
            ]
          },
          "metadata": {},
          "execution_count": 35
        }
      ]
    },
    {
      "cell_type": "code",
      "source": [
        "# Integer Division\n",
        "-20//3"
      ],
      "metadata": {
        "colab": {
          "base_uri": "https://localhost:8080/"
        },
        "id": "MHVyybzg-Zg5",
        "outputId": "6154bc5c-e3a8-4785-8942-cf56d1225304"
      },
      "execution_count": 36,
      "outputs": [
        {
          "output_type": "execute_result",
          "data": {
            "text/plain": [
              "-7"
            ]
          },
          "metadata": {},
          "execution_count": 36
        }
      ]
    },
    {
      "cell_type": "code",
      "source": [
        "age=120\n",
        "print(age)\n",
        "id(age)"
      ],
      "metadata": {
        "colab": {
          "base_uri": "https://localhost:8080/"
        },
        "id": "KnbKQYBQ4Iud",
        "outputId": "abc9e231-dd4a-437c-c3ad-367f69b17636"
      },
      "execution_count": 38,
      "outputs": [
        {
          "output_type": "stream",
          "name": "stdout",
          "text": [
            "120\n"
          ]
        },
        {
          "output_type": "execute_result",
          "data": {
            "text/plain": [
              "136309404389328"
            ]
          },
          "metadata": {},
          "execution_count": 38
        }
      ]
    },
    {
      "cell_type": "code",
      "source": [
        "_number = 25"
      ],
      "metadata": {
        "id": "SjRPp-d6_6j5"
      },
      "execution_count": 40,
      "outputs": []
    },
    {
      "cell_type": "code",
      "source": [
        "max_number = 25"
      ],
      "metadata": {
        "id": "b1rANV0OASuf"
      },
      "execution_count": 42,
      "outputs": []
    },
    {
      "cell_type": "code",
      "source": [
        "_if =25\n"
      ],
      "metadata": {
        "id": "2RVmE9CZAOEf"
      },
      "execution_count": 44,
      "outputs": []
    },
    {
      "cell_type": "code",
      "source": [
        "arpit=14\n",
        "print(arpit)"
      ],
      "metadata": {
        "colab": {
          "base_uri": "https://localhost:8080/"
        },
        "id": "cDOuptakBO5y",
        "outputId": "54f17477-e9bf-4f5f-d198-c4890dfb2b8e"
      },
      "execution_count": 45,
      "outputs": [
        {
          "output_type": "stream",
          "name": "stdout",
          "text": [
            "14\n"
          ]
        }
      ]
    },
    {
      "cell_type": "code",
      "source": [
        "print(id(arpit))"
      ],
      "metadata": {
        "colab": {
          "base_uri": "https://localhost:8080/"
        },
        "id": "JkHMosrFBThP",
        "outputId": "1eb7ff6f-3477-45e5-9be3-2cee2945f36b"
      },
      "execution_count": 46,
      "outputs": [
        {
          "output_type": "stream",
          "name": "stdout",
          "text": [
            "136309404385936\n"
          ]
        }
      ]
    },
    {
      "cell_type": "markdown",
      "source": [
        "# Keywords"
      ],
      "metadata": {
        "id": "44IviJOqCXjs"
      }
    },
    {
      "cell_type": "code",
      "source": [
        "help(\"keywords\")\n"
      ],
      "metadata": {
        "colab": {
          "base_uri": "https://localhost:8080/"
        },
        "id": "pcA8j86KB7iu",
        "outputId": "ed3050fc-e639-4af2-8f55-53869ba72afa"
      },
      "execution_count": 47,
      "outputs": [
        {
          "output_type": "stream",
          "name": "stdout",
          "text": [
            "\n",
            "Here is a list of the Python keywords.  Enter any keyword to get more help.\n",
            "\n",
            "False               class               from                or\n",
            "None                continue            global              pass\n",
            "True                def                 if                  raise\n",
            "and                 del                 import              return\n",
            "as                  elif                in                  try\n",
            "assert              else                is                  while\n",
            "async               except              lambda              with\n",
            "await               finally             nonlocal            yield\n",
            "break               for                 not                 \n",
            "\n"
          ]
        }
      ]
    },
    {
      "cell_type": "code",
      "source": [
        "help(\"for\")"
      ],
      "metadata": {
        "colab": {
          "base_uri": "https://localhost:8080/"
        },
        "id": "OH53xo9oAdmB",
        "outputId": "0d5be098-2fe2-49e4-97b1-2d6e4635ad16"
      },
      "execution_count": 48,
      "outputs": [
        {
          "output_type": "stream",
          "name": "stdout",
          "text": [
            "The \"for\" statement\n",
            "*******************\n",
            "\n",
            "The \"for\" statement is used to iterate over the elements of a sequence\n",
            "(such as a string, tuple or list) or other iterable object:\n",
            "\n",
            "   for_stmt ::= \"for\" target_list \"in\" expression_list \":\" suite\n",
            "                [\"else\" \":\" suite]\n",
            "\n",
            "The expression list is evaluated once; it should yield an iterable\n",
            "object.  An iterator is created for the result of the\n",
            "\"expression_list\".  The suite is then executed once for each item\n",
            "provided by the iterator, in the order returned by the iterator.  Each\n",
            "item in turn is assigned to the target list using the standard rules\n",
            "for assignments (see Assignment statements), and then the suite is\n",
            "executed.  When the items are exhausted (which is immediately when the\n",
            "sequence is empty or an iterator raises a \"StopIteration\" exception),\n",
            "the suite in the \"else\" clause, if present, is executed, and the loop\n",
            "terminates.\n",
            "\n",
            "A \"break\" statement executed in the first suite terminates the loop\n",
            "without executing the \"else\" clause’s suite.  A \"continue\" statement\n",
            "executed in the first suite skips the rest of the suite and continues\n",
            "with the next item, or with the \"else\" clause if there is no next\n",
            "item.\n",
            "\n",
            "The for-loop makes assignments to the variables in the target list.\n",
            "This overwrites all previous assignments to those variables including\n",
            "those made in the suite of the for-loop:\n",
            "\n",
            "   for i in range(10):\n",
            "       print(i)\n",
            "       i = 5             # this will not affect the for-loop\n",
            "                         # because i will be overwritten with the next\n",
            "                         # index in the range\n",
            "\n",
            "Names in the target list are not deleted when the loop is finished,\n",
            "but if the sequence is empty, they will not have been assigned to at\n",
            "all by the loop.  Hint: the built-in type \"range()\" represents\n",
            "immutable arithmetic sequences of integers. For instance, iterating\n",
            "\"range(3)\" successively yields 0, 1, and then 2.\n",
            "\n",
            "Related help topics: break, continue, while\n",
            "\n"
          ]
        }
      ]
    },
    {
      "cell_type": "code",
      "source": [
        "help(\"pass\")"
      ],
      "metadata": {
        "colab": {
          "base_uri": "https://localhost:8080/"
        },
        "id": "Z3S0cvlECfOX",
        "outputId": "7e055603-2c2e-4bd7-eb25-45dd4e2dfef2"
      },
      "execution_count": 49,
      "outputs": [
        {
          "output_type": "stream",
          "name": "stdout",
          "text": [
            "The \"pass\" statement\n",
            "********************\n",
            "\n",
            "   pass_stmt ::= \"pass\"\n",
            "\n",
            "\"pass\" is a null operation — when it is executed, nothing happens. It\n",
            "is useful as a placeholder when a statement is required syntactically,\n",
            "but no code needs to be executed, for example:\n",
            "\n",
            "   def f(arg): pass    # a function that does nothing (yet)\n",
            "\n",
            "   class C: pass       # a class with no methods (yet)\n",
            "\n"
          ]
        }
      ]
    },
    {
      "cell_type": "code",
      "source": [
        "pass_ = 25\n",
        "print(pass_)"
      ],
      "metadata": {
        "colab": {
          "base_uri": "https://localhost:8080/"
        },
        "id": "MDC92-g2CnWU",
        "outputId": "20b1dcca-495c-4c93-ab6b-542f2b039f46"
      },
      "execution_count": 51,
      "outputs": [
        {
          "output_type": "stream",
          "name": "stdout",
          "text": [
            "25\n"
          ]
        }
      ]
    },
    {
      "cell_type": "code",
      "source": [
        "count=170\n",
        "total=170\n",
        "print(id(count))\n",
        "print(id(total))"
      ],
      "metadata": {
        "colab": {
          "base_uri": "https://localhost:8080/"
        },
        "id": "dISFXVYOCysy",
        "outputId": "a8a887f8-f05b-41c3-8208-58df09c81fdc"
      },
      "execution_count": 52,
      "outputs": [
        {
          "output_type": "stream",
          "name": "stdout",
          "text": [
            "136309404390928\n",
            "136309404390928\n"
          ]
        }
      ]
    },
    {
      "cell_type": "code",
      "source": [
        "count=426\n",
        "total=512\n",
        "print(id(count))\n",
        "print(id(total))"
      ],
      "metadata": {
        "colab": {
          "base_uri": "https://localhost:8080/"
        },
        "id": "Kb1yxKSnDeo5",
        "outputId": "2e9bf900-a027-4295-f13e-c27b3d3a87ad"
      },
      "execution_count": 53,
      "outputs": [
        {
          "output_type": "stream",
          "name": "stdout",
          "text": [
            "136308075160144\n",
            "136308075161456\n"
          ]
        }
      ]
    },
    {
      "cell_type": "code",
      "source": [],
      "metadata": {
        "id": "xD8yxOrpDJw_"
      },
      "execution_count": null,
      "outputs": []
    }
  ]
}