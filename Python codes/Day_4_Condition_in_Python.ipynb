{
  "nbformat": 4,
  "nbformat_minor": 0,
  "metadata": {
    "colab": {
      "provenance": []
    },
    "kernelspec": {
      "name": "python3",
      "display_name": "Python 3"
    },
    "language_info": {
      "name": "python"
    }
  },
  "cells": [
    {
      "cell_type": "markdown",
      "source": [
        "# Conditions in Python"
      ],
      "metadata": {
        "id": "Bopu9NH0d4hX"
      }
    },
    {
      "cell_type": "code",
      "execution_count": 11,
      "metadata": {
        "colab": {
          "base_uri": "https://localhost:8080/"
        },
        "id": "Q-lN1eb7dMgh",
        "outputId": "5d06288c-fc4d-4f61-f5e7-c605026f7d3d"
      },
      "outputs": [
        {
          "output_type": "execute_result",
          "data": {
            "text/plain": [
              "False"
            ]
          },
          "metadata": {},
          "execution_count": 11
        }
      ],
      "source": [
        "age=8\n",
        "age>=21   # 8>=21 ---> False"
      ]
    },
    {
      "cell_type": "code",
      "source": [
        "age=int(input(\"Enter your age?  \"))\n",
        "age>=21"
      ],
      "metadata": {
        "colab": {
          "base_uri": "https://localhost:8080/"
        },
        "id": "Mlfd82LGd7M4",
        "outputId": "2c9ccbae-815a-4649-beb8-a6967dd5a45d"
      },
      "execution_count": 8,
      "outputs": [
        {
          "name": "stdout",
          "output_type": "stream",
          "text": [
            "Enter your age?  7\n"
          ]
        },
        {
          "output_type": "execute_result",
          "data": {
            "text/plain": [
              "False"
            ]
          },
          "metadata": {},
          "execution_count": 8
        }
      ]
    },
    {
      "cell_type": "markdown",
      "source": [
        "# if else condition in python"
      ],
      "metadata": {
        "id": "_6CwOkPxfiyR"
      }
    },
    {
      "cell_type": "code",
      "source": [
        "# if else condition in python\n",
        "age=int(input(\"Enter your age?  \"))\n",
        "\n",
        "if age>=21:\n",
        "  print(\" Come on in!!  \")\n",
        "else:\n",
        "  print(\" Go Home Kid !!!\")"
      ],
      "metadata": {
        "colab": {
          "base_uri": "https://localhost:8080/"
        },
        "id": "VaQ57L2ceh2n",
        "outputId": "0f756aad-a4f9-4e35-cfe2-0f9098d25257"
      },
      "execution_count": 16,
      "outputs": [
        {
          "output_type": "stream",
          "name": "stdout",
          "text": [
            "Enter your age?  54\n",
            " Come on in!!  \n"
          ]
        }
      ]
    },
    {
      "cell_type": "code",
      "source": [
        "# indentation\n",
        "# if else condition in python\n",
        "age=int(input(\"Enter your age?  \"))\n",
        "\n",
        "if age>=21:\n",
        "  print(\" Come on in!!  \")\n",
        "  print(\"Praful code\")\n",
        "  print(\"Aditi Candidate\")\n",
        "else:\n",
        "  print(\" Go Home Kid !!!\")"
      ],
      "metadata": {
        "colab": {
          "base_uri": "https://localhost:8080/"
        },
        "id": "IYmGfEUMfjoy",
        "outputId": "84e9a25c-1c59-4519-9ff0-df3c8b5f3365"
      },
      "execution_count": 19,
      "outputs": [
        {
          "output_type": "stream",
          "name": "stdout",
          "text": [
            "Enter your age?  28\n",
            " Come on in!!  \n",
            "Praful code\n",
            "Aditi Candidate\n"
          ]
        }
      ]
    },
    {
      "cell_type": "markdown",
      "source": [
        "# Else if"
      ],
      "metadata": {
        "id": "GlzADHLAhcrZ"
      }
    },
    {
      "cell_type": "code",
      "source": [
        "# else if else condition in python\n",
        "age=int(input(\"Enter your age?  \"))\n",
        "\n",
        "if age>=21 and age<65:  # 84>=21 and  81<65  --> True\n",
        "  print(\" Come on in!!  \")\n",
        "elif age>=65:\n",
        "  print(\"You are senior citizen!!!\")\n",
        "  print(\"Therefore, not allowed !!!!\")\n",
        "else:\n",
        "  print(\" Go Home Kid !!!\")"
      ],
      "metadata": {
        "colab": {
          "base_uri": "https://localhost:8080/"
        },
        "id": "Tq8VSeYqgg9o",
        "outputId": "7ef9ba6c-af0d-4a5e-a81f-9263baa7eaaa"
      },
      "execution_count": 25,
      "outputs": [
        {
          "output_type": "stream",
          "name": "stdout",
          "text": [
            "Enter your age?  85\n",
            "You are senior citizen!!!\n",
            "Therefore, not allowed !!!!\n"
          ]
        }
      ]
    },
    {
      "cell_type": "code",
      "source": [
        "a=3 &  5  # Binary and operator\n",
        "print(a)"
      ],
      "metadata": {
        "colab": {
          "base_uri": "https://localhost:8080/"
        },
        "id": "7sy41w2xhsqN",
        "outputId": "4e9a81a6-101a-4d59-d8b8-35aeab6771a0"
      },
      "execution_count": 29,
      "outputs": [
        {
          "output_type": "stream",
          "name": "stdout",
          "text": [
            "1\n"
          ]
        }
      ]
    },
    {
      "cell_type": "code",
      "source": [
        "a=7 &  6 # Binary and operator\n",
        "print(a)"
      ],
      "metadata": {
        "colab": {
          "base_uri": "https://localhost:8080/"
        },
        "id": "rIzT8jGkizSk",
        "outputId": "4c65de88-9c2a-4739-edc7-4ecb3ff84878"
      },
      "execution_count": 27,
      "outputs": [
        {
          "output_type": "stream",
          "name": "stdout",
          "text": [
            "6\n"
          ]
        }
      ]
    },
    {
      "cell_type": "markdown",
      "source": [
        "# if else over String"
      ],
      "metadata": {
        "id": "DrzNq07OkBVE"
      }
    },
    {
      "cell_type": "code",
      "source": [
        "name=input(\"Enter your name...... \")\n",
        "if name=='Rashmi':\n",
        "  print(\"Hi Rashmi\")\n",
        "else:\n",
        "  print(\"Hi Guest\")"
      ],
      "metadata": {
        "colab": {
          "base_uri": "https://localhost:8080/"
        },
        "id": "dgKXqdT4i4dX",
        "outputId": "8a65eaa8-d1a8-43b5-bccd-1fd93a6b6206"
      },
      "execution_count": 32,
      "outputs": [
        {
          "output_type": "stream",
          "name": "stdout",
          "text": [
            "Enter your name...... rashmi\n",
            "Hi Guest\n"
          ]
        }
      ]
    },
    {
      "cell_type": "code",
      "source": [
        "color= 'green'\n",
        "print(color)"
      ],
      "metadata": {
        "colab": {
          "base_uri": "https://localhost:8080/"
        },
        "id": "0Es-_3O1kPXw",
        "outputId": "6910c8ba-dd67-4946-da8f-7cc350ad99f1"
      },
      "execution_count": 33,
      "outputs": [
        {
          "output_type": "stream",
          "name": "stdout",
          "text": [
            "green\n"
          ]
        }
      ]
    },
    {
      "cell_type": "code",
      "source": [
        "color=='green'\n",
        "print(color=='green')"
      ],
      "metadata": {
        "colab": {
          "base_uri": "https://localhost:8080/"
        },
        "id": "XLTb6vibk8Pz",
        "outputId": "b3a3bb28-5bb1-48a1-f85c-654f2b98c1d6"
      },
      "execution_count": 35,
      "outputs": [
        {
          "output_type": "stream",
          "name": "stdout",
          "text": [
            "True\n"
          ]
        }
      ]
    },
    {
      "cell_type": "markdown",
      "source": [
        "# Multiple else if conditions"
      ],
      "metadata": {
        "id": "-O8JqtpTlSiz"
      }
    },
    {
      "cell_type": "code",
      "source": [
        "color=input(\"What's your color?  \")\n",
        "\n",
        "if color=='Green':\n",
        "  print('Your color is equivalant to Peacock')\n",
        "elif color=='Red':\n",
        "  print('Your color is equivalant to Blood')\n",
        "elif color=='Blue':\n",
        "  print('Your color is equivalant to Sky')\n",
        "elif color=='Yellow':\n",
        "  print('Your color is equivalant to Deer')\n",
        "else:\n",
        "  print(\"I coudn't recognize your color\")\n"
      ],
      "metadata": {
        "colab": {
          "base_uri": "https://localhost:8080/"
        },
        "id": "SnKuF9FFlAaC",
        "outputId": "782e5cf8-1ed3-4e58-d654-7342827092c0"
      },
      "execution_count": 42,
      "outputs": [
        {
          "output_type": "stream",
          "name": "stdout",
          "text": [
            "What's your color?  Blue\n",
            "Your color is equivalant to Sky\n"
          ]
        }
      ]
    },
    {
      "cell_type": "markdown",
      "source": [
        "# Nested if condition"
      ],
      "metadata": {
        "id": "1JwWgg8GnRWm"
      }
    },
    {
      "cell_type": "code",
      "source": [
        "unit=input(\"What is your unit? \")\n",
        "temp=int(input(\"What is the temp now ? \"))\n",
        "\n",
        "if unit=='Farehnite':\n",
        "  if temp<=0:\n",
        "    print(\"It's very cold here\")\n",
        "  if temp>0 and temp<=10:\n",
        "    print(\"It's not very cold here\")\n",
        "  if temp>30:\n",
        "    print(\"It's hot here\")\n"
      ],
      "metadata": {
        "colab": {
          "base_uri": "https://localhost:8080/"
        },
        "id": "4hL5fUXAmE1X",
        "outputId": "f62c718c-362d-4c01-a726-ae96817951a5"
      },
      "execution_count": 44,
      "outputs": [
        {
          "output_type": "stream",
          "name": "stdout",
          "text": [
            "What is your unit? Farehnite\n",
            "What is the temp now ? -5\n",
            "It's very cold here\n"
          ]
        }
      ]
    },
    {
      "cell_type": "code",
      "source": [],
      "metadata": {
        "id": "95TJU0l_oIfU"
      },
      "execution_count": null,
      "outputs": []
    }
  ]
}