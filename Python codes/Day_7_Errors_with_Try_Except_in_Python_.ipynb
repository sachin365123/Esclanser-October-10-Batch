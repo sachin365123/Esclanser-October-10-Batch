{
  "nbformat": 4,
  "nbformat_minor": 0,
  "metadata": {
    "colab": {
      "provenance": []
    },
    "kernelspec": {
      "name": "python3",
      "display_name": "Python 3"
    },
    "language_info": {
      "name": "python"
    }
  },
  "cells": [
    {
      "cell_type": "code",
      "source": [
        "# Name Error\n",
        "a=5\n",
        "\n",
        "a/b"
      ],
      "metadata": {
        "id": "a090EZAxEYPa"
      },
      "execution_count": 32,
      "outputs": []
    },
    {
      "cell_type": "code",
      "execution_count": 31,
      "metadata": {
        "id": "oK0GhAy0DlP7"
      },
      "outputs": [],
      "source": [
        "i= int(input(\"Enter your roll number.... \"))\n",
        "print(i)"
      ]
    },
    {
      "cell_type": "code",
      "source": [
        "try:\n",
        "  marks= int(input(\"Enter your marks....\"))\n",
        "except ValueError:\n",
        "  print(\"Oh no, that isn't a number!\")\n",
        "\n"
      ],
      "metadata": {
        "id": "ZThqZ2pYHAqV"
      },
      "execution_count": 12,
      "outputs": []
    },
    {
      "cell_type": "code",
      "source": [
        "try:\n",
        "  marks= int(input(\"Enter your marks....\"))\n",
        "  print(10/marks)\n",
        "  print(\"Thanking You!!!\")\n",
        "except ValueError:\n",
        "  print(\"Oh no, that isn't a number!\")\n",
        "except ZeroDivisionError:\n",
        "    print(\"Kindly provide value other than zero...\")"
      ],
      "metadata": {
        "id": "xgoQkuXLLMTK"
      },
      "execution_count": null,
      "outputs": []
    },
    {
      "cell_type": "markdown",
      "source": [
        "# Applications of Errors and Try catch:"
      ],
      "metadata": {
        "id": "jngPuZChLRGn"
      }
    },
    {
      "cell_type": "markdown",
      "source": [
        "1. if Contact number is less than or greater than 10 digits.\n",
        "2. if Adhar Card number is less than or greater than 12 digits.\n",
        "3. if email id not having '@'\n",
        "4. you are trying to divide marks by '0'"
      ],
      "metadata": {
        "id": "NLDNzeb6LXCE"
      }
    },
    {
      "cell_type": "code",
      "source": [
        "year='100000000000'\n",
        "year.isnumeric()\n",
        "type(year)\n",
        "year=int(year)   # Type Casting\n",
        "type(year)"
      ],
      "metadata": {
        "colab": {
          "base_uri": "https://localhost:8080/"
        },
        "id": "aiCfe9sRLmIn",
        "outputId": "0318589f-c730-466b-e29b-b30091a5962b"
      },
      "execution_count": 25,
      "outputs": [
        {
          "output_type": "execute_result",
          "data": {
            "text/plain": [
              "int"
            ]
          },
          "metadata": {},
          "execution_count": 25
        }
      ]
    },
    {
      "cell_type": "code",
      "source": [
        "year = input(\"Enter a year: \")\n",
        "if year.isnumeric():\n",
        "  year=int(year)\n",
        "  print('Yeah this is integer value!!!', year)\n",
        "else:\n",
        "  year= 2025\n",
        "  print('Yeah this was not integer value!!!', year)"
      ],
      "metadata": {
        "id": "M0JvWTCcJ-sp"
      },
      "execution_count": 27,
      "outputs": []
    },
    {
      "cell_type": "markdown",
      "source": [
        "# other example"
      ],
      "metadata": {
        "id": "y8SCuVyzNqye"
      }
    },
    {
      "cell_type": "code",
      "source": [
        "try:\n",
        "    number = int(input(\"Enter a number: \"))\n",
        "    print(f\"You entered: {number}\")\n",
        "except ValueError:\n",
        "    print(\"That's not a valid number! Please enter an integer.\")\n"
      ],
      "metadata": {
        "id": "q-xsdqB-HpGq"
      },
      "execution_count": null,
      "outputs": []
    },
    {
      "cell_type": "code",
      "source": [
        "try:\n",
        "    numerator = int(input(\"Enter the numerator: \"))\n",
        "    denominator = int(input(\"Enter the denominator: \"))\n",
        "    result = numerator / denominator\n",
        "    print(f\"The result is: {result}\")\n",
        "except ValueError:\n",
        "    print(\"Please enter valid numbers.\")\n",
        "except ZeroDivisionError:\n",
        "    print(\"You cannot divide by zero!\")\n"
      ],
      "metadata": {
        "id": "eZUDQvWJN1Kr"
      },
      "execution_count": null,
      "outputs": []
    },
    {
      "cell_type": "code",
      "source": [
        "# value=8\n",
        "# value/0"
      ],
      "metadata": {
        "id": "qK-udAUpPV_p"
      },
      "execution_count": 30,
      "outputs": []
    },
    {
      "cell_type": "code",
      "source": [],
      "metadata": {
        "id": "1gI_MQzGPWkm"
      },
      "execution_count": null,
      "outputs": []
    }
  ]
}