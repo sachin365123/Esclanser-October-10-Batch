{
  "nbformat": 4,
  "nbformat_minor": 0,
  "metadata": {
    "colab": {
      "provenance": []
    },
    "kernelspec": {
      "name": "python3",
      "display_name": "Python 3"
    },
    "language_info": {
      "name": "python"
    }
  },
  "cells": [
    {
      "cell_type": "markdown",
      "source": [
        "# Functions in Python"
      ],
      "metadata": {
        "id": "PDZThtyQyePP"
      }
    },
    {
      "cell_type": "code",
      "execution_count": 11,
      "metadata": {
        "id": "R3hCzQsrx6Uh"
      },
      "outputs": [],
      "source": [
        "# declarartion of the function\n",
        "def display1():\n",
        "  print(\"My name is Sachin, I'm Learning Data Science\")"
      ]
    },
    {
      "cell_type": "code",
      "source": [
        "# calling of the function\n",
        "display1()\n",
        "display1()\n",
        "display1()\n",
        "display1()\n",
        "display1()"
      ],
      "metadata": {
        "colab": {
          "base_uri": "https://localhost:8080/"
        },
        "id": "z_2xewQHygQ-",
        "outputId": "cc879bb8-b529-41f5-928d-51077c5cd48e"
      },
      "execution_count": 12,
      "outputs": [
        {
          "output_type": "stream",
          "name": "stdout",
          "text": [
            "My name is Sachin, I'm Learning Data Science\n",
            "My name is Sachin, I'm Learning Data Science\n",
            "My name is Sachin, I'm Learning Data Science\n",
            "My name is Sachin, I'm Learning Data Science\n",
            "My name is Sachin, I'm Learning Data Science\n"
          ]
        }
      ]
    },
    {
      "cell_type": "code",
      "source": [
        "# declarartion of the function with argument\n",
        "def display2(course):\n",
        "  print(\"My name is Sachin, I'm Learning \",course)"
      ],
      "metadata": {
        "id": "b8hz5ZJpy1B4"
      },
      "execution_count": 13,
      "outputs": []
    },
    {
      "cell_type": "code",
      "source": [
        "display2('Deep Learning')"
      ],
      "metadata": {
        "colab": {
          "base_uri": "https://localhost:8080/"
        },
        "id": "1mdSXvKgz9i2",
        "outputId": "1f6d961c-f9e2-442b-e348-f4c20585756a"
      },
      "execution_count": 14,
      "outputs": [
        {
          "output_type": "stream",
          "name": "stdout",
          "text": [
            "My name is Sachin, I'm Learning  Deep Learning\n"
          ]
        }
      ]
    },
    {
      "cell_type": "code",
      "source": [
        "display2('Data Analytics')"
      ],
      "metadata": {
        "colab": {
          "base_uri": "https://localhost:8080/"
        },
        "id": "9Q2oDVd60BvM",
        "outputId": "1e944505-f61c-4c08-c2f9-081a0f356ce5"
      },
      "execution_count": 15,
      "outputs": [
        {
          "output_type": "stream",
          "name": "stdout",
          "text": [
            "My name is Sachin, I'm Learning  Data Analytics\n"
          ]
        }
      ]
    },
    {
      "cell_type": "code",
      "source": [
        "display2('Machine Analytics')"
      ],
      "metadata": {
        "colab": {
          "base_uri": "https://localhost:8080/"
        },
        "id": "DpP4dBhi0Gw7",
        "outputId": "ae28642f-91aa-419b-d6e6-461578c2a784"
      },
      "execution_count": 16,
      "outputs": [
        {
          "output_type": "stream",
          "name": "stdout",
          "text": [
            "My name is Sachin, I'm Learning  Machine Analytics\n"
          ]
        }
      ]
    },
    {
      "cell_type": "code",
      "source": [
        "display2('Cloud Computing')"
      ],
      "metadata": {
        "colab": {
          "base_uri": "https://localhost:8080/"
        },
        "id": "AXsgaK9u0XMB",
        "outputId": "f928a640-610f-4d0d-bfa0-7a4db161ac4d"
      },
      "execution_count": 18,
      "outputs": [
        {
          "output_type": "stream",
          "name": "stdout",
          "text": [
            "My name is Sachin, I'm Learning  Cloud Computing\n"
          ]
        }
      ]
    },
    {
      "cell_type": "markdown",
      "source": [
        "# declarartion of the function with two arguments"
      ],
      "metadata": {
        "id": "Kij_vCsD1JU_"
      }
    },
    {
      "cell_type": "code",
      "source": [
        "# declarartion of the function with two arguments\n",
        "def display3(name, course):\n",
        "  print(\"My name is \",name, \"I'm Learning \",course)"
      ],
      "metadata": {
        "id": "RuLmQk-k0aIQ"
      },
      "execution_count": 19,
      "outputs": []
    },
    {
      "cell_type": "code",
      "source": [
        "display3('Sahil','Machine Learning')"
      ],
      "metadata": {
        "colab": {
          "base_uri": "https://localhost:8080/"
        },
        "id": "YadzUl4l1K7g",
        "outputId": "e7342cd9-8809-454f-bca7-fb0df6d7646d"
      },
      "execution_count": 20,
      "outputs": [
        {
          "output_type": "stream",
          "name": "stdout",
          "text": [
            "My name is  Sahil I'm Learning  Machine Learning\n"
          ]
        }
      ]
    },
    {
      "cell_type": "markdown",
      "source": [
        "# define function with String and Integer"
      ],
      "metadata": {
        "id": "JsbP7Oi62Co0"
      }
    },
    {
      "cell_type": "code",
      "source": [
        "def laugh():\n",
        "  print('Ha '*6)"
      ],
      "metadata": {
        "id": "CcRbWPpA1wrt"
      },
      "execution_count": 21,
      "outputs": []
    },
    {
      "cell_type": "code",
      "source": [
        "def laugh(intensity):\n",
        "  print('Ha '*intensity)"
      ],
      "metadata": {
        "id": "BlslGvJQ29BS"
      },
      "execution_count": 29,
      "outputs": []
    },
    {
      "cell_type": "code",
      "source": [
        "intensity=20\n",
        "laugh(intensity)"
      ],
      "metadata": {
        "colab": {
          "base_uri": "https://localhost:8080/"
        },
        "id": "bCMKBTqb3Egw",
        "outputId": "c3177036-dd8c-4e43-b68a-e8d4dbef8b02"
      },
      "execution_count": 33,
      "outputs": [
        {
          "output_type": "stream",
          "name": "stdout",
          "text": [
            "Ha Ha Ha Ha Ha Ha Ha Ha Ha Ha Ha Ha Ha Ha Ha Ha Ha Ha Ha Ha \n"
          ]
        }
      ]
    },
    {
      "cell_type": "code",
      "source": [
        "laugh()\n",
        "laugh()\n",
        "laugh()\n",
        "laugh()\n",
        "laugh()\n",
        "laugh()\n",
        "laugh()\n",
        "laugh()\n",
        "laugh()\n",
        "laugh()\n",
        "\n"
      ],
      "metadata": {
        "colab": {
          "base_uri": "https://localhost:8080/"
        },
        "id": "vWfaH90N1PSB",
        "outputId": "7d4b43af-1367-4d2d-8551-22309d6701a8"
      },
      "execution_count": 24,
      "outputs": [
        {
          "output_type": "stream",
          "name": "stdout",
          "text": [
            "Ha Ha Ha Ha Ha Ha \n",
            "Ha Ha Ha Ha Ha Ha \n",
            "Ha Ha Ha Ha Ha Ha \n",
            "Ha Ha Ha Ha Ha Ha \n",
            "Ha Ha Ha Ha Ha Ha \n",
            "Ha Ha Ha Ha Ha Ha \n",
            "Ha Ha Ha Ha Ha Ha \n",
            "Ha Ha Ha Ha Ha Ha \n",
            "Ha Ha Ha Ha Ha Ha \n",
            "Ha Ha Ha Ha Ha Ha \n"
          ]
        }
      ]
    },
    {
      "cell_type": "code",
      "source": [
        "laugh(6)\n",
        "laugh(13)"
      ],
      "metadata": {
        "colab": {
          "base_uri": "https://localhost:8080/"
        },
        "id": "p5x_Cbuf3Dmc",
        "outputId": "ce9c2c99-fcf6-4b73-f96d-0e9d095c818b"
      },
      "execution_count": 35,
      "outputs": [
        {
          "output_type": "stream",
          "name": "stdout",
          "text": [
            "Ha Ha Ha Ha Ha Ha \n",
            "Ha Ha Ha Ha Ha Ha Ha Ha Ha Ha Ha Ha Ha \n"
          ]
        }
      ]
    },
    {
      "cell_type": "code",
      "source": [
        "for i in range(3):\n",
        "  print(i)\n",
        "  laugh()\n"
      ],
      "metadata": {
        "colab": {
          "base_uri": "https://localhost:8080/"
        },
        "id": "oaC9SLTX131x",
        "outputId": "76755362-1cde-4207-86fb-31fae4bea202"
      },
      "execution_count": 27,
      "outputs": [
        {
          "output_type": "stream",
          "name": "stdout",
          "text": [
            "0\n",
            "Ha Ha Ha Ha Ha Ha \n",
            "1\n",
            "Ha Ha Ha Ha Ha Ha \n",
            "2\n",
            "Ha Ha Ha Ha Ha Ha \n"
          ]
        }
      ]
    },
    {
      "cell_type": "code",
      "source": [
        "# in bulit function\n",
        "str='Uma Sudarsan'\n",
        "len(str)"
      ],
      "metadata": {
        "colab": {
          "base_uri": "https://localhost:8080/"
        },
        "id": "d4VuXJuB2WLd",
        "outputId": "72ceb80b-ea39-4daf-a84f-68a133d09bc5"
      },
      "execution_count": 28,
      "outputs": [
        {
          "output_type": "execute_result",
          "data": {
            "text/plain": [
              "12"
            ]
          },
          "metadata": {},
          "execution_count": 28
        }
      ]
    },
    {
      "cell_type": "markdown",
      "source": [
        "# function with two integer variables"
      ],
      "metadata": {
        "id": "azGBrjzn3mgI"
      }
    },
    {
      "cell_type": "code",
      "source": [
        "def sahil(x,y):\n",
        "  return x/y"
      ],
      "metadata": {
        "id": "5a64kd8N2xnb"
      },
      "execution_count": 38,
      "outputs": []
    },
    {
      "cell_type": "code",
      "source": [
        "print(sahil(12,3))"
      ],
      "metadata": {
        "colab": {
          "base_uri": "https://localhost:8080/"
        },
        "id": "mOeIFA-n3ws_",
        "outputId": "9d52a0fe-5df5-4f3a-85fd-029260c42840"
      },
      "execution_count": 39,
      "outputs": [
        {
          "output_type": "stream",
          "name": "stdout",
          "text": [
            "4.0\n"
          ]
        }
      ]
    },
    {
      "cell_type": "code",
      "source": [
        "print(sahil(3,12))"
      ],
      "metadata": {
        "colab": {
          "base_uri": "https://localhost:8080/"
        },
        "id": "aIWR9EJb3z_x",
        "outputId": "e353611d-4527-40a4-de26-7067aa8577aa"
      },
      "execution_count": 40,
      "outputs": [
        {
          "output_type": "stream",
          "name": "stdout",
          "text": [
            "0.25\n"
          ]
        }
      ]
    },
    {
      "cell_type": "code",
      "source": [
        "sahil(5,2)"
      ],
      "metadata": {
        "colab": {
          "base_uri": "https://localhost:8080/"
        },
        "id": "QITJXMab4B0p",
        "outputId": "52a0f708-19a2-440a-c207-65bbf530d810"
      },
      "execution_count": 41,
      "outputs": [
        {
          "output_type": "execute_result",
          "data": {
            "text/plain": [
              "2.5"
            ]
          },
          "metadata": {},
          "execution_count": 41
        }
      ]
    },
    {
      "cell_type": "markdown",
      "source": [
        "# Define function with default values"
      ],
      "metadata": {
        "id": "QzeDlBt-50xO"
      }
    },
    {
      "cell_type": "code",
      "source": [
        "def laugh(intensity=3):\n",
        "  print('Ha '*intensity)"
      ],
      "metadata": {
        "id": "0BrlTCk_47RZ"
      },
      "execution_count": 48,
      "outputs": []
    },
    {
      "cell_type": "code",
      "source": [
        "laugh()"
      ],
      "metadata": {
        "colab": {
          "base_uri": "https://localhost:8080/"
        },
        "id": "K8pU5hQU50Bx",
        "outputId": "d8774530-95f4-4877-e159-509ccb1e7dcd"
      },
      "execution_count": 52,
      "outputs": [
        {
          "output_type": "stream",
          "name": "stdout",
          "text": [
            "Ha Ha Ha \n"
          ]
        }
      ]
    },
    {
      "cell_type": "code",
      "source": [
        "def age_candiadte(age=18):\n",
        "  print(\"My age is \",age)"
      ],
      "metadata": {
        "id": "aRwAgTVe57Fi"
      },
      "execution_count": 53,
      "outputs": []
    },
    {
      "cell_type": "code",
      "source": [
        "age_candiadte()"
      ],
      "metadata": {
        "colab": {
          "base_uri": "https://localhost:8080/"
        },
        "id": "kY99Mxqf6f1_",
        "outputId": "d56bc6a7-76c4-4400-e29f-cee52ceba2ac"
      },
      "execution_count": 57,
      "outputs": [
        {
          "output_type": "stream",
          "name": "stdout",
          "text": [
            "My age is  18\n"
          ]
        }
      ]
    },
    {
      "cell_type": "code",
      "source": [],
      "metadata": {
        "id": "-4J4hg_J6jr9"
      },
      "execution_count": null,
      "outputs": []
    }
  ]
}