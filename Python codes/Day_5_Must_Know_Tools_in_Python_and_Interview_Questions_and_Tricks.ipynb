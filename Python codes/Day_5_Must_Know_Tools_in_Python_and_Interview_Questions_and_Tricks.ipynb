{
  "nbformat": 4,
  "nbformat_minor": 0,
  "metadata": {
    "colab": {
      "provenance": []
    },
    "kernelspec": {
      "name": "python3",
      "display_name": "Python 3"
    },
    "language_info": {
      "name": "python"
    }
  },
  "cells": [
    {
      "cell_type": "markdown",
      "source": [
        "# Must Know Tools in Python and Interview Questions and Tricks"
      ],
      "metadata": {
        "id": "BRusbtfxnful"
      }
    },
    {
      "cell_type": "markdown",
      "source": [
        "## Iterating over Range Objects"
      ],
      "metadata": {
        "id": "lPeeDpL_nmPS"
      }
    },
    {
      "cell_type": "code",
      "execution_count": 4,
      "metadata": {
        "colab": {
          "base_uri": "https://localhost:8080/"
        },
        "id": "EiZJO4jVmJF5",
        "outputId": "b2688fe8-3ce3-4353-f294-8cddafd8d264"
      },
      "outputs": [
        {
          "output_type": "execute_result",
          "data": {
            "text/plain": [
              "tuple"
            ]
          },
          "metadata": {},
          "execution_count": 4
        }
      ],
      "source": [
        "# Round paranthesis/brackets\n",
        "t= (4, 5, 6, 7)\n",
        "type(t)"
      ]
    },
    {
      "cell_type": "code",
      "source": [
        "# Square paranthesis/ brackets\n",
        "t= [4, 5, 6, 7]\n",
        "type(t)"
      ],
      "metadata": {
        "colab": {
          "base_uri": "https://localhost:8080/"
        },
        "id": "rzh088bvniB5",
        "outputId": "5a43a1d8-c322-49db-89af-6d5679157954"
      },
      "execution_count": 2,
      "outputs": [
        {
          "output_type": "execute_result",
          "data": {
            "text/plain": [
              "list"
            ]
          },
          "metadata": {},
          "execution_count": 2
        }
      ]
    },
    {
      "cell_type": "code",
      "source": [
        "s='abcde'\n",
        "type(s)"
      ],
      "metadata": {
        "colab": {
          "base_uri": "https://localhost:8080/"
        },
        "id": "uwo9aFign8my",
        "outputId": "6bed325f-12dc-4e70-de37-4b763ff56f46"
      },
      "execution_count": 3,
      "outputs": [
        {
          "output_type": "execute_result",
          "data": {
            "text/plain": [
              "str"
            ]
          },
          "metadata": {},
          "execution_count": 3
        }
      ]
    },
    {
      "cell_type": "markdown",
      "source": [
        "## for loop for this datatype"
      ],
      "metadata": {
        "id": "qSWwfJUVoU0R"
      }
    },
    {
      "cell_type": "code",
      "source": [
        "for i in t:\n",
        "  print(i)\n"
      ],
      "metadata": {
        "colab": {
          "base_uri": "https://localhost:8080/"
        },
        "id": "wJpAE-rPoNYz",
        "outputId": "a04077ae-51f4-48f5-b33b-ee721a6e2b86"
      },
      "execution_count": 5,
      "outputs": [
        {
          "output_type": "stream",
          "name": "stdout",
          "text": [
            "4\n",
            "5\n",
            "6\n",
            "7\n"
          ]
        }
      ]
    },
    {
      "cell_type": "code",
      "source": [
        "for i in t:\n",
        "  print(i, end=\" \")\n"
      ],
      "metadata": {
        "colab": {
          "base_uri": "https://localhost:8080/"
        },
        "id": "1DVcRYB6ocwW",
        "outputId": "11d03c55-ef2d-47fa-812f-92d512b6a4a6"
      },
      "execution_count": 9,
      "outputs": [
        {
          "output_type": "stream",
          "name": "stdout",
          "text": [
            "4 5 6 7 "
          ]
        }
      ]
    },
    {
      "cell_type": "markdown",
      "source": [
        "## Range"
      ],
      "metadata": {
        "id": "Al17VmcZpG50"
      }
    },
    {
      "cell_type": "code",
      "source": [
        "help('range')"
      ],
      "metadata": {
        "colab": {
          "base_uri": "https://localhost:8080/"
        },
        "id": "QAJaTq4so0t_",
        "outputId": "bc5ee5b9-4af5-4174-cff4-a842435d0bad"
      },
      "execution_count": 10,
      "outputs": [
        {
          "output_type": "stream",
          "name": "stdout",
          "text": [
            "Help on class range in module builtins:\n",
            "\n",
            "class range(object)\n",
            " |  range(stop) -> range object\n",
            " |  range(start, stop[, step]) -> range object\n",
            " |  \n",
            " |  Return an object that produces a sequence of integers from start (inclusive)\n",
            " |  to stop (exclusive) by step.  range(i, j) produces i, i+1, i+2, ..., j-1.\n",
            " |  start defaults to 0, and stop is omitted!  range(4) produces 0, 1, 2, 3.\n",
            " |  These are exactly the valid indices for a list of 4 elements.\n",
            " |  When step is given, it specifies the increment (or decrement).\n",
            " |  \n",
            " |  Methods defined here:\n",
            " |  \n",
            " |  __bool__(self, /)\n",
            " |      True if self else False\n",
            " |  \n",
            " |  __contains__(self, key, /)\n",
            " |      Return key in self.\n",
            " |  \n",
            " |  __eq__(self, value, /)\n",
            " |      Return self==value.\n",
            " |  \n",
            " |  __ge__(self, value, /)\n",
            " |      Return self>=value.\n",
            " |  \n",
            " |  __getattribute__(self, name, /)\n",
            " |      Return getattr(self, name).\n",
            " |  \n",
            " |  __getitem__(self, key, /)\n",
            " |      Return self[key].\n",
            " |  \n",
            " |  __gt__(self, value, /)\n",
            " |      Return self>value.\n",
            " |  \n",
            " |  __hash__(self, /)\n",
            " |      Return hash(self).\n",
            " |  \n",
            " |  __iter__(self, /)\n",
            " |      Implement iter(self).\n",
            " |  \n",
            " |  __le__(self, value, /)\n",
            " |      Return self<=value.\n",
            " |  \n",
            " |  __len__(self, /)\n",
            " |      Return len(self).\n",
            " |  \n",
            " |  __lt__(self, value, /)\n",
            " |      Return self<value.\n",
            " |  \n",
            " |  __ne__(self, value, /)\n",
            " |      Return self!=value.\n",
            " |  \n",
            " |  __reduce__(...)\n",
            " |      Helper for pickle.\n",
            " |  \n",
            " |  __repr__(self, /)\n",
            " |      Return repr(self).\n",
            " |  \n",
            " |  __reversed__(...)\n",
            " |      Return a reverse iterator.\n",
            " |  \n",
            " |  count(...)\n",
            " |      rangeobject.count(value) -> integer -- return number of occurrences of value\n",
            " |  \n",
            " |  index(...)\n",
            " |      rangeobject.index(value) -> integer -- return index of value.\n",
            " |      Raise ValueError if the value is not present.\n",
            " |  \n",
            " |  ----------------------------------------------------------------------\n",
            " |  Static methods defined here:\n",
            " |  \n",
            " |  __new__(*args, **kwargs) from builtins.type\n",
            " |      Create and return a new object.  See help(type) for accurate signature.\n",
            " |  \n",
            " |  ----------------------------------------------------------------------\n",
            " |  Data descriptors defined here:\n",
            " |  \n",
            " |  start\n",
            " |  \n",
            " |  step\n",
            " |  \n",
            " |  stop\n",
            "\n"
          ]
        }
      ]
    },
    {
      "cell_type": "code",
      "source": [
        "range(5)"
      ],
      "metadata": {
        "colab": {
          "base_uri": "https://localhost:8080/"
        },
        "id": "sg3SGc4VpOaN",
        "outputId": "6c461276-fac0-498d-cad6-9053679d1d93"
      },
      "execution_count": 11,
      "outputs": [
        {
          "output_type": "execute_result",
          "data": {
            "text/plain": [
              "range(0, 5)"
            ]
          },
          "metadata": {},
          "execution_count": 11
        }
      ]
    },
    {
      "cell_type": "code",
      "source": [
        "l= range(0,5)\n",
        "print(l)"
      ],
      "metadata": {
        "colab": {
          "base_uri": "https://localhost:8080/"
        },
        "id": "J5-rSCdZpPlj",
        "outputId": "e2892af5-cad4-459e-ce22-3143ffce7e65"
      },
      "execution_count": 12,
      "outputs": [
        {
          "output_type": "stream",
          "name": "stdout",
          "text": [
            "range(0, 5)\n"
          ]
        }
      ]
    },
    {
      "cell_type": "code",
      "source": [
        "for i in range(5):\n",
        "  print(i)"
      ],
      "metadata": {
        "colab": {
          "base_uri": "https://localhost:8080/"
        },
        "id": "6fCVBauupUBI",
        "outputId": "0cdf654b-1cdd-47f3-dfc5-03c8edf9282b"
      },
      "execution_count": 14,
      "outputs": [
        {
          "output_type": "stream",
          "name": "stdout",
          "text": [
            "0\n",
            "1\n",
            "2\n",
            "3\n",
            "4\n"
          ]
        }
      ]
    },
    {
      "cell_type": "code",
      "source": [
        "for i in range(5):\n",
        "  print(i, end=\" \")"
      ],
      "metadata": {
        "colab": {
          "base_uri": "https://localhost:8080/"
        },
        "id": "AA9qQQs1pbzv",
        "outputId": "4795c498-890f-4471-ab0a-4ba5f018d966"
      },
      "execution_count": 15,
      "outputs": [
        {
          "output_type": "stream",
          "name": "stdout",
          "text": [
            "0 1 2 3 4 "
          ]
        }
      ]
    },
    {
      "cell_type": "markdown",
      "source": [
        "### Nested For Loops - Introduction"
      ],
      "metadata": {
        "id": "zfs2X_N4p-eL"
      }
    },
    {
      "cell_type": "code",
      "source": [
        "for i in range(3):\n",
        "  for j in range(4):\n",
        "    print(\"i= \",i, \"j= \",j, end=\" \")\n",
        "    print(\" \\n\")"
      ],
      "metadata": {
        "colab": {
          "base_uri": "https://localhost:8080/"
        },
        "id": "l9ofzWJIps0N",
        "outputId": "b6bed589-4843-42a6-e7b3-ba28eb481ac1"
      },
      "execution_count": 23,
      "outputs": [
        {
          "output_type": "stream",
          "name": "stdout",
          "text": [
            "i=  0 j=  0  \n",
            "\n",
            "i=  0 j=  1  \n",
            "\n",
            "i=  0 j=  2  \n",
            "\n",
            "i=  0 j=  3  \n",
            "\n",
            "i=  1 j=  0  \n",
            "\n",
            "i=  1 j=  1  \n",
            "\n",
            "i=  1 j=  2  \n",
            "\n",
            "i=  1 j=  3  \n",
            "\n",
            "i=  2 j=  0  \n",
            "\n",
            "i=  2 j=  1  \n",
            "\n",
            "i=  2 j=  2  \n",
            "\n",
            "i=  2 j=  3  \n",
            "\n"
          ]
        }
      ]
    },
    {
      "cell_type": "code",
      "source": [
        "for i in range(3):\n",
        "  for j in range(4):\n",
        "    print(\"i= \",i,\"j= \",j)"
      ],
      "metadata": {
        "colab": {
          "base_uri": "https://localhost:8080/"
        },
        "id": "AQ0dOZ_ZqDeS",
        "outputId": "dd9af11b-aaeb-4760-9d7b-39fdef7366c8"
      },
      "execution_count": 28,
      "outputs": [
        {
          "output_type": "stream",
          "name": "stdout",
          "text": [
            "i=  0 j=  0\n",
            "i=  0 j=  1\n",
            "i=  0 j=  2\n",
            "i=  0 j=  3\n",
            "i=  1 j=  0\n",
            "i=  1 j=  1\n",
            "i=  1 j=  2\n",
            "i=  1 j=  3\n",
            "i=  2 j=  0\n",
            "i=  2 j=  1\n",
            "i=  2 j=  2\n",
            "i=  2 j=  3\n"
          ]
        }
      ]
    },
    {
      "cell_type": "code",
      "source": [
        "for k in range(5,20):\n",
        "  print(k)"
      ],
      "metadata": {
        "colab": {
          "base_uri": "https://localhost:8080/"
        },
        "id": "elNgKf3ysVXL",
        "outputId": "ad8f9a8e-8a90-4b27-9e27-edd7694bad7d"
      },
      "execution_count": 34,
      "outputs": [
        {
          "output_type": "stream",
          "name": "stdout",
          "text": [
            "5\n",
            "6\n",
            "7\n",
            "8\n",
            "9\n",
            "10\n",
            "11\n",
            "12\n",
            "13\n",
            "14\n",
            "15\n",
            "16\n",
            "17\n",
            "18\n",
            "19\n"
          ]
        }
      ]
    },
    {
      "cell_type": "code",
      "source": [
        "print(k)"
      ],
      "metadata": {
        "colab": {
          "base_uri": "https://localhost:8080/"
        },
        "id": "e5g5B4JyssG5",
        "outputId": "5a08b3eb-c480-438f-dda8-9f08a422bdcf"
      },
      "execution_count": 35,
      "outputs": [
        {
          "output_type": "stream",
          "name": "stdout",
          "text": [
            "19\n"
          ]
        }
      ]
    },
    {
      "cell_type": "code",
      "source": [
        "s=7\n",
        "for p in range(s):\n",
        "  print(p)"
      ],
      "metadata": {
        "colab": {
          "base_uri": "https://localhost:8080/"
        },
        "id": "qxmHpEIZtYFb",
        "outputId": "98cf6796-35d6-4438-f4da-285d8dce462c"
      },
      "execution_count": 38,
      "outputs": [
        {
          "output_type": "stream",
          "name": "stdout",
          "text": [
            "0\n",
            "1\n",
            "2\n",
            "3\n",
            "4\n",
            "5\n",
            "6\n"
          ]
        }
      ]
    },
    {
      "cell_type": "code",
      "source": [
        "for i in [\"Product A\", \"Product B\"]:\n",
        "  for j in range(5):\n",
        "    print([i,j])"
      ],
      "metadata": {
        "colab": {
          "base_uri": "https://localhost:8080/"
        },
        "id": "YBYa-a3Htf-z",
        "outputId": "6dc053e8-cfa3-42ec-f716-1553246c8110"
      },
      "execution_count": 39,
      "outputs": [
        {
          "output_type": "stream",
          "name": "stdout",
          "text": [
            "['Product A', 0]\n",
            "['Product A', 1]\n",
            "['Product A', 2]\n",
            "['Product A', 3]\n",
            "['Product A', 4]\n",
            "['Product B', 0]\n",
            "['Product B', 1]\n",
            "['Product B', 2]\n",
            "['Product B', 3]\n",
            "['Product B', 4]\n"
          ]
        }
      ]
    },
    {
      "cell_type": "code",
      "source": [
        "products=[\"Product A\", \"Product B\"]\n",
        "exp_sales = [10000, 11000, 22000, 15000, 25000]\n"
      ],
      "metadata": {
        "id": "K9rcartDt9q9"
      },
      "execution_count": 41,
      "outputs": []
    },
    {
      "cell_type": "code",
      "source": [
        "for i in products:\n",
        "  for j in exp_sales:\n",
        "    print([i,j])\n"
      ],
      "metadata": {
        "colab": {
          "base_uri": "https://localhost:8080/"
        },
        "id": "6mIT3OmquQMi",
        "outputId": "f0b0d89f-5867-4868-dea2-9bf392cec4d8"
      },
      "execution_count": 49,
      "outputs": [
        {
          "output_type": "stream",
          "name": "stdout",
          "text": [
            "['Product A', 10000]\n",
            "['Product A', 11000]\n",
            "['Product A', 22000]\n",
            "['Product A', 15000]\n",
            "['Product A', 25000]\n",
            "['Product B', 10000]\n",
            "['Product B', 11000]\n",
            "['Product B', 22000]\n",
            "['Product B', 15000]\n",
            "['Product B', 25000]\n"
          ]
        }
      ]
    },
    {
      "cell_type": "code",
      "source": [
        "exp_sales = [10000, 11000, 22000, 15000, 25000]\n",
        "for i in exp_sales:\n",
        "  print(i)"
      ],
      "metadata": {
        "colab": {
          "base_uri": "https://localhost:8080/"
        },
        "id": "WVrKixODuVta",
        "outputId": "ec2a91ec-143f-43d5-afdb-523ecc5d769a"
      },
      "execution_count": 45,
      "outputs": [
        {
          "output_type": "stream",
          "name": "stdout",
          "text": [
            "10000\n",
            "11000\n",
            "22000\n",
            "15000\n",
            "25000\n"
          ]
        }
      ]
    },
    {
      "cell_type": "code",
      "source": [
        "str= 'Manish Learns Data Science'\n",
        "for i in str:\n",
        "  print(i)"
      ],
      "metadata": {
        "colab": {
          "base_uri": "https://localhost:8080/"
        },
        "id": "MonjQKwdu0Vw",
        "outputId": "9e13f34c-17e9-46bd-cc99-a0115a04f769"
      },
      "execution_count": 46,
      "outputs": [
        {
          "output_type": "stream",
          "name": "stdout",
          "text": [
            "M\n",
            "a\n",
            "n\n",
            "i\n",
            "s\n",
            "h\n",
            " \n",
            "L\n",
            "e\n",
            "a\n",
            "r\n",
            "n\n",
            "s\n",
            " \n",
            "D\n",
            "a\n",
            "t\n",
            "a\n",
            " \n",
            "S\n",
            "c\n",
            "i\n",
            "e\n",
            "n\n",
            "c\n",
            "e\n"
          ]
        }
      ]
    },
    {
      "cell_type": "code",
      "source": [
        "products=[\"Product A\", \"Product B\"]\n",
        "exp_sales = [10000, 11000, 22000, 15000, 25000]\n",
        "gst = [18, 5, 10]\n",
        "\n",
        "for i in products:\n",
        "  for j in exp_sales:\n",
        "    for g in gst:\n",
        "      print([i, j*g])"
      ],
      "metadata": {
        "colab": {
          "base_uri": "https://localhost:8080/"
        },
        "id": "HetqCkr7u8xo",
        "outputId": "dd7cf0bf-ff49-4843-b34a-5e621146d471"
      },
      "execution_count": 50,
      "outputs": [
        {
          "output_type": "stream",
          "name": "stdout",
          "text": [
            "['Product A', 180000]\n",
            "['Product A', 50000]\n",
            "['Product A', 100000]\n",
            "['Product A', 198000]\n",
            "['Product A', 55000]\n",
            "['Product A', 110000]\n",
            "['Product A', 396000]\n",
            "['Product A', 110000]\n",
            "['Product A', 220000]\n",
            "['Product A', 270000]\n",
            "['Product A', 75000]\n",
            "['Product A', 150000]\n",
            "['Product A', 450000]\n",
            "['Product A', 125000]\n",
            "['Product A', 250000]\n",
            "['Product B', 180000]\n",
            "['Product B', 50000]\n",
            "['Product B', 100000]\n",
            "['Product B', 198000]\n",
            "['Product B', 55000]\n",
            "['Product B', 110000]\n",
            "['Product B', 396000]\n",
            "['Product B', 110000]\n",
            "['Product B', 220000]\n",
            "['Product B', 270000]\n",
            "['Product B', 75000]\n",
            "['Product B', 150000]\n",
            "['Product B', 450000]\n",
            "['Product B', 125000]\n",
            "['Product B', 250000]\n"
          ]
        }
      ]
    },
    {
      "cell_type": "markdown",
      "source": [
        "# List Comprehensions"
      ],
      "metadata": {
        "id": "LQSsGTPywFC1"
      }
    },
    {
      "cell_type": "code",
      "source": [
        "numbers= [1, 13, 4, 5, 63, 100]\n",
        "numbers"
      ],
      "metadata": {
        "colab": {
          "base_uri": "https://localhost:8080/"
        },
        "id": "v8MLm-BZwCZl",
        "outputId": "5e448d97-b133-4f80-aa87-fc75f0a1cb3b"
      },
      "execution_count": 52,
      "outputs": [
        {
          "output_type": "execute_result",
          "data": {
            "text/plain": [
              "[1, 13, 4, 5, 63, 100]"
            ]
          },
          "metadata": {},
          "execution_count": 52
        }
      ]
    },
    {
      "cell_type": "code",
      "source": [
        "new_numbers = [ ]\n",
        "for n in numbers:\n",
        "  new_numbers.append(n*2)\n",
        "\n",
        "print(new_numbers)"
      ],
      "metadata": {
        "colab": {
          "base_uri": "https://localhost:8080/"
        },
        "id": "oAE-DjORwKhP",
        "outputId": "faaf5b9b-b5b7-49d6-cf68-837f26a21dd0"
      },
      "execution_count": 54,
      "outputs": [
        {
          "output_type": "stream",
          "name": "stdout",
          "text": [
            "[2, 26, 8, 10, 126, 200]\n"
          ]
        }
      ]
    },
    {
      "cell_type": "code",
      "source": [
        "new_numbers = [n for n in numbers]\n",
        "new_numbers"
      ],
      "metadata": {
        "colab": {
          "base_uri": "https://localhost:8080/"
        },
        "id": "s50prS0pwlOY",
        "outputId": "3d063066-cb2f-479f-f071-61b6851eb9e9"
      },
      "execution_count": 55,
      "outputs": [
        {
          "output_type": "execute_result",
          "data": {
            "text/plain": [
              "[1, 13, 4, 5, 63, 100]"
            ]
          },
          "metadata": {},
          "execution_count": 55
        }
      ]
    },
    {
      "cell_type": "code",
      "source": [
        "new_numbers = [n*2 for n in numbers]\n",
        "new_numbers"
      ],
      "metadata": {
        "colab": {
          "base_uri": "https://localhost:8080/"
        },
        "id": "8vUOLiKjw-3J",
        "outputId": "9bfad7ca-f61f-4ae5-bab0-4ea12396023d"
      },
      "execution_count": 56,
      "outputs": [
        {
          "output_type": "execute_result",
          "data": {
            "text/plain": [
              "[2, 26, 8, 10, 126, 200]"
            ]
          },
          "metadata": {},
          "execution_count": 56
        }
      ]
    },
    {
      "cell_type": "code",
      "source": [
        "for i in range(2):\n",
        "  for j in range(5):\n",
        "    print(i+j, end=\" \")"
      ],
      "metadata": {
        "colab": {
          "base_uri": "https://localhost:8080/"
        },
        "id": "TGBcD9Y0xCxH",
        "outputId": "3dff4717-ee62-474f-a1f5-b6abc8c9e948"
      },
      "execution_count": 58,
      "outputs": [
        {
          "output_type": "stream",
          "name": "stdout",
          "text": [
            "0 1 2 3 4 1 2 3 4 5 "
          ]
        }
      ]
    },
    {
      "cell_type": "code",
      "source": [
        "new_addition = [i+j for i in range(2) for j in range(5)]\n",
        "new_addition"
      ],
      "metadata": {
        "colab": {
          "base_uri": "https://localhost:8080/"
        },
        "id": "9ipDxnUIxQnE",
        "outputId": "45de2fd0-3fc8-4da3-927b-c75084c4a716"
      },
      "execution_count": 59,
      "outputs": [
        {
          "output_type": "execute_result",
          "data": {
            "text/plain": [
              "[0, 1, 2, 3, 4, 1, 2, 3, 4, 5]"
            ]
          },
          "metadata": {},
          "execution_count": 59
        }
      ]
    },
    {
      "cell_type": "code",
      "source": [
        "list(range(5))"
      ],
      "metadata": {
        "colab": {
          "base_uri": "https://localhost:8080/"
        },
        "id": "kXOc2WQayI0G",
        "outputId": "9e095d50-0048-46dc-8f4b-c786d367dc69"
      },
      "execution_count": 61,
      "outputs": [
        {
          "output_type": "execute_result",
          "data": {
            "text/plain": [
              "[0, 1, 2, 3, 4]"
            ]
          },
          "metadata": {},
          "execution_count": 61
        }
      ]
    },
    {
      "cell_type": "code",
      "source": [],
      "metadata": {
        "id": "pQeIgg3myln7"
      },
      "execution_count": null,
      "outputs": []
    }
  ]
}