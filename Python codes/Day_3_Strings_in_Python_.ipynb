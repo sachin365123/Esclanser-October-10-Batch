{
  "nbformat": 4,
  "nbformat_minor": 0,
  "metadata": {
    "colab": {
      "provenance": []
    },
    "kernelspec": {
      "name": "python3",
      "display_name": "Python 3"
    },
    "language_info": {
      "name": "python"
    }
  },
  "cells": [
    {
      "cell_type": "code",
      "execution_count": 1,
      "metadata": {
        "colab": {
          "base_uri": "https://localhost:8080/"
        },
        "id": "2DCJanhnAHYs",
        "outputId": "8d94cc9f-51bd-463b-de70-fd29c736c897"
      },
      "outputs": [
        {
          "output_type": "stream",
          "name": "stdout",
          "text": [
            "#SarkariNaukri\n"
          ]
        }
      ],
      "source": [
        "# String\n",
        "twitter_handle ='#SarkariNaukri'\n",
        "print(twitter_handle )"
      ]
    },
    {
      "cell_type": "code",
      "source": [
        "twitter_hashtags= '#FreeJobAlert #SarkariResult  #10thJobs #Anydegreejobs #GovtJobs'\n",
        "print(twitter_hashtags)"
      ],
      "metadata": {
        "colab": {
          "base_uri": "https://localhost:8080/"
        },
        "id": "QGSlVT2iCv4k",
        "outputId": "f84e0466-d371-4929-c7c6-60322396eeb6"
      },
      "execution_count": 2,
      "outputs": [
        {
          "output_type": "stream",
          "name": "stdout",
          "text": [
            "#FreeJobAlert #SarkariResult  #10thJobs #Anydegreejobs #GovtJobs\n"
          ]
        }
      ]
    },
    {
      "cell_type": "code",
      "source": [
        "github='https://github.com/sachin365123/Esclancer-Batch-Sep-18-2024/tree/main'\n",
        "print(github)"
      ],
      "metadata": {
        "colab": {
          "base_uri": "https://localhost:8080/"
        },
        "id": "rzROqc4WC9dY",
        "outputId": "0f0eaec2-0acb-4e74-e0ed-b78f2d621752"
      },
      "execution_count": 3,
      "outputs": [
        {
          "output_type": "stream",
          "name": "stdout",
          "text": [
            "https://github.com/sachin365123/Esclancer-Batch-Sep-18-2024/tree/main\n"
          ]
        }
      ]
    },
    {
      "cell_type": "code",
      "source": [
        "var='The Cat house'\n",
        "var"
      ],
      "metadata": {
        "colab": {
          "base_uri": "https://localhost:8080/",
          "height": 35
        },
        "id": "Ngl5HXqMDZVm",
        "outputId": "3f6ae2a0-548c-4815-cf70-233f374e807c"
      },
      "execution_count": 4,
      "outputs": [
        {
          "output_type": "execute_result",
          "data": {
            "text/plain": [
              "'The Cat house'"
            ],
            "application/vnd.google.colaboratory.intrinsic+json": {
              "type": "string"
            }
          },
          "metadata": {},
          "execution_count": 4
        }
      ]
    },
    {
      "cell_type": "code",
      "source": [
        "var2='The Cat's house'\n",
        "var2"
      ],
      "metadata": {
        "colab": {
          "base_uri": "https://localhost:8080/",
          "height": 35
        },
        "id": "KTTTitYJDqOy",
        "outputId": "04c83f43-048c-4ec3-dd29-f0132071cc39"
      },
      "execution_count": 7,
      "outputs": [
        {
          "output_type": "execute_result",
          "data": {
            "text/plain": [
              "'The Cat'"
            ],
            "application/vnd.google.colaboratory.intrinsic+json": {
              "type": "string"
            }
          },
          "metadata": {},
          "execution_count": 7
        }
      ]
    },
    {
      "cell_type": "code",
      "source": [
        "name='Atul'\n",
        "print(name)"
      ],
      "metadata": {
        "colab": {
          "base_uri": "https://localhost:8080/"
        },
        "id": "qiYyHyBBES5I",
        "outputId": "456b0ec6-fd4e-47d1-b7f4-734cc933faf1"
      },
      "execution_count": 9,
      "outputs": [
        {
          "output_type": "stream",
          "name": "stdout",
          "text": [
            "Atul\n"
          ]
        }
      ]
    },
    {
      "cell_type": "code",
      "source": [
        "# Solution 1\n",
        "var3=\"The Cat's house\"\n",
        "var3"
      ],
      "metadata": {
        "colab": {
          "base_uri": "https://localhost:8080/",
          "height": 35
        },
        "id": "5pfRwrcNDuPJ",
        "outputId": "77bfd515-c84c-4b25-abd0-1833b9d12623"
      },
      "execution_count": 6,
      "outputs": [
        {
          "output_type": "execute_result",
          "data": {
            "text/plain": [
              "\"The Cat's house\""
            ],
            "application/vnd.google.colaboratory.intrinsic+json": {
              "type": "string"
            }
          },
          "metadata": {},
          "execution_count": 6
        }
      ]
    },
    {
      "cell_type": "code",
      "source": [
        "# Solution 2\n",
        "var2='The Cat\\'s house'\n",
        "var2"
      ],
      "metadata": {
        "colab": {
          "base_uri": "https://localhost:8080/",
          "height": 35
        },
        "id": "WnTupZRGFFWF",
        "outputId": "da85667f-d65c-4c5c-fc00-a5a48257a47b"
      },
      "execution_count": 11,
      "outputs": [
        {
          "output_type": "execute_result",
          "data": {
            "text/plain": [
              "\"The Cat's house\""
            ],
            "application/vnd.google.colaboratory.intrinsic+json": {
              "type": "string"
            }
          },
          "metadata": {},
          "execution_count": 11
        }
      ]
    },
    {
      "cell_type": "code",
      "source": [
        "var4='She said \"Yes?\"'\n",
        "var4"
      ],
      "metadata": {
        "colab": {
          "base_uri": "https://localhost:8080/",
          "height": 35
        },
        "id": "RniJUb5YEAJW",
        "outputId": "61ddd2a7-4557-452b-a634-5ea652a233c4"
      },
      "execution_count": 10,
      "outputs": [
        {
          "output_type": "execute_result",
          "data": {
            "text/plain": [
              "'She said \"Yes?\"'"
            ],
            "application/vnd.google.colaboratory.intrinsic+json": {
              "type": "string"
            }
          },
          "metadata": {},
          "execution_count": 10
        }
      ]
    },
    {
      "cell_type": "code",
      "source": [
        "ratan_tata = ''' Ratan Naval Tata[a] KBE AO (28 December 1937 – 9 October 2024)\n",
        "was an Indian industrialist and philanthropist. He served as the chairman of\n",
        " Tata Group and Tata Sons from 1991 to 2012, and he held the position of\n",
        " interim chairman from October 2016 to February 2017.[2][3] In 2008,\n",
        " he received the Padma Vibhushan, the second highest civilian honour in India.\n",
        " Ratan had previously received the Padma Bhushan, the third highest civilian\n",
        " honour, in 2000.[4]\n",
        "Ratan Tata was the son of Naval Tata, who was adopted by Ratanji\n",
        "Tata, son of Jamshedji Tata, the founder of the Tata Group.\n",
        "He graduated from Cornell University College of Architecture with a\n",
        " bachelor's degree in architecture.[5] He joined the Tata Group in 1962[6]\n",
        " starting on the shop floor of Tata Steel. He later succeeded\n",
        " J. R. D. Tata as chairman of Tata Sons upon the latter's retirement\n",
        " in 1991. During his tenure, the Tata Group acquired Tetley,\n",
        " Jaguar Land Rover, and Corus, in an\n",
        "attempt to turn Tata from a largely India-centric group into a global business. '''"
      ],
      "metadata": {
        "id": "3vRL6SWEE42C"
      },
      "execution_count": 27,
      "outputs": []
    },
    {
      "cell_type": "code",
      "source": [
        "# Solution # 2 to remove \\n in between paragraph\n",
        "print(ratan_tata)"
      ],
      "metadata": {
        "colab": {
          "base_uri": "https://localhost:8080/"
        },
        "id": "Acrr96iFIVxe",
        "outputId": "9cbfa003-3fc5-4db8-8c06-7bf4add48f40"
      },
      "execution_count": 30,
      "outputs": [
        {
          "output_type": "stream",
          "name": "stdout",
          "text": [
            " Ratan Naval Tata[a] KBE AO (28 December 1937 – 9 October 2024) \n",
            "was an Indian industrialist and philanthropist. He served as the chairman of\n",
            " Tata Group and Tata Sons from 1991 to 2012, and he held the position of \n",
            " interim chairman from October 2016 to February 2017.[2][3] In 2008, \n",
            " he received the Padma Vibhushan, the second highest civilian honour in India. \n",
            " Ratan had previously received the Padma Bhushan, the third highest civilian \n",
            " honour, in 2000.[4]\n",
            "Ratan Tata was the son of Naval Tata, who was adopted by Ratanji \n",
            "Tata, son of Jamshedji Tata, the founder of the Tata Group. \n",
            "He graduated from Cornell University College of Architecture with a\n",
            " bachelor's degree in architecture.[5] He joined the Tata Group in 1962[6] \n",
            " starting on the shop floor of Tata Steel. He later succeeded \n",
            " J. R. D. Tata as chairman of Tata Sons upon the latter's retirement \n",
            " in 1991. During his tenure, the Tata Group acquired Tetley, \n",
            " Jaguar Land Rover, and Corus, in an \n",
            "attempt to turn Tata from a largely India-centric group into a global business. \n"
          ]
        }
      ]
    },
    {
      "cell_type": "code",
      "source": [
        "rata_tata_2= '''Ratan Naval Tata[a] KBE AO (28 December 1937 – 9 October 2024) was an Indian industrialist and philanthropist. He served as the chairman of Tata Group and Tata Sons from 1991 to 2012, and he held the position of interim chairman from October 2016 to February 2017.[2][3] In 2008, he received the Padma Vibhushan, the second highest civilian honour in India. Ratan had previously received the Padma Bhushan, the third highest civilian honour, in 2000.[4] Ratan Tata was the son of Naval Tata, who was adopted by Ratanji Tata, son of Jamshedji Tata, the founder of the Tata Group. He graduated from Cornell University College of Architecture with a bachelor's degree in architecture.[5] He joined the Tata Group in 1962[6] starting on the shop floor of Tata Steel. He later succeeded J. R. D. Tata as chairman of Tata Sons upon the latter's retirement in 1991. During his tenure, the Tata Group acquired Tetley, Jaguar Land Rover, and Corus, in an attempt to turn Tata from a largely India-centric group into a global business. '''"
      ],
      "metadata": {
        "id": "vIkulw_QH5-b"
      },
      "execution_count": 25,
      "outputs": []
    },
    {
      "cell_type": "code",
      "source": [
        "rata_tata_2"
      ],
      "metadata": {
        "colab": {
          "base_uri": "https://localhost:8080/",
          "height": 226
        },
        "id": "V4CogcZVIBP0",
        "outputId": "c2aa52d8-563e-482d-eb62-4848675269fb"
      },
      "execution_count": 26,
      "outputs": [
        {
          "output_type": "execute_result",
          "data": {
            "text/plain": [
              "\"Ratan Naval Tata[a] KBE AO (28 December 1937 – 9 October 2024) was an Indian industrialist and philanthropist. He served as the chairman of Tata Group and Tata Sons from 1991 to 2012, and he held the position of interim chairman from October 2016 to February 2017.[2][3] In 2008, he received the Padma Vibhushan, the second highest civilian honour in India. Ratan had previously received the Padma Bhushan, the third highest civilian honour, in 2000.[4] Ratan Tata was the son of Naval Tata, who was adopted by Ratanji Tata, son of Jamshedji Tata, the founder of the Tata Group. He graduated from Cornell University College of Architecture with a bachelor's degree in architecture.[5] He joined the Tata Group in 1962[6] starting on the shop floor of Tata Steel. He later succeeded J. R. D. Tata as chairman of Tata Sons upon the latter's retirement in 1991. During his tenure, the Tata Group acquired Tetley, Jaguar Land Rover, and Corus, in an attempt to turn Tata from a largely India-centric group into a global business. \""
            ],
            "application/vnd.google.colaboratory.intrinsic+json": {
              "type": "string"
            }
          },
          "metadata": {},
          "execution_count": 26
        }
      ]
    },
    {
      "cell_type": "code",
      "source": [
        "ratan_tata"
      ],
      "metadata": {
        "colab": {
          "base_uri": "https://localhost:8080/",
          "height": 226
        },
        "id": "dzq6fF59FtXS",
        "outputId": "5f28b332-f77b-4baf-c91e-7e2e296222ec"
      },
      "execution_count": 13,
      "outputs": [
        {
          "output_type": "execute_result",
          "data": {
            "text/plain": [
              "\" Ratan Naval Tata[a] KBE AO (28 December 1937 – 9 October 2024) \\nwas an Indian industrialist and philanthropist. He served as the chairman of\\n Tata Group and Tata Sons from 1991 to 2012, and he held the position of \\n interim chairman from October 2016 to February 2017.[2][3] In 2008, \\n he received the Padma Vibhushan, the second highest civilian honour in India. \\n Ratan had previously received the Padma Bhushan, the third highest civilian \\n honour, in 2000.[4]\\nRatan Tata was the son of Naval Tata, who was adopted by Ratanji \\nTata, son of Jamshedji Tata, the founder of the Tata Group. \\nHe graduated from Cornell University College of Architecture with a\\n bachelor's degree in architecture.[5] He joined the Tata Group in 1962[6] \\n starting on the shop floor of Tata Steel. He later succeeded \\n J. R. D. Tata as chairman of Tata Sons upon the latter's retirement \\n in 1991. During his tenure, the Tata Group acquired Tetley, \\n Jaguar Land Rover, and Corus, in an \\nattempt to turn Tata from a largely India-centric group into a global business.   \""
            ],
            "application/vnd.google.colaboratory.intrinsic+json": {
              "type": "string"
            }
          },
          "metadata": {},
          "execution_count": 13
        }
      ]
    },
    {
      "cell_type": "code",
      "source": [
        "new_delhi='This is very old City. However, near to Panjab'\n",
        "new_delhi"
      ],
      "metadata": {
        "colab": {
          "base_uri": "https://localhost:8080/",
          "height": 35
        },
        "id": "tptH6WxkFuG2",
        "outputId": "938ba64e-f44a-42ec-f0f0-e34f26dd97bf"
      },
      "execution_count": 14,
      "outputs": [
        {
          "output_type": "execute_result",
          "data": {
            "text/plain": [
              "'This is very old City. However, near to Panjab'"
            ],
            "application/vnd.google.colaboratory.intrinsic+json": {
              "type": "string"
            }
          },
          "metadata": {},
          "execution_count": 14
        }
      ]
    },
    {
      "cell_type": "code",
      "source": [
        "new_delhi='This is very old City.\\nHowever, near to Panjab. \\nI lived here.'\n",
        "print(new_delhi)"
      ],
      "metadata": {
        "colab": {
          "base_uri": "https://localhost:8080/"
        },
        "id": "oQ_DNnzGGxGR",
        "outputId": "8f8dcb32-720b-4774-a355-d74ea366de02"
      },
      "execution_count": 18,
      "outputs": [
        {
          "output_type": "stream",
          "name": "stdout",
          "text": [
            "This is very old City.\n",
            "However, near to Panjab. \n",
            "I lived here.\n"
          ]
        }
      ]
    },
    {
      "cell_type": "markdown",
      "source": [
        "# New Line"
      ],
      "metadata": {
        "id": "u4n2A2jnHvfo"
      }
    },
    {
      "cell_type": "code",
      "source": [
        "new_delhi='This is very old City.\\nHowever, near to Panjab. \\nI lived here.'\n",
        "new_delhi\n",
        "print(new_delhi)"
      ],
      "metadata": {
        "colab": {
          "base_uri": "https://localhost:8080/"
        },
        "id": "dpSgh8EnHNTK",
        "outputId": "4b6ad590-41ba-4131-d426-62f04932528c"
      },
      "execution_count": 20,
      "outputs": [
        {
          "output_type": "stream",
          "name": "stdout",
          "text": [
            "This is very old City.\n",
            "However, near to Panjab. \n",
            "I lived here.\n"
          ]
        }
      ]
    },
    {
      "cell_type": "code",
      "source": [
        "new_delhi='This is very old City.However, near to Panjab. I lived here.'\n",
        "new_delhi\n",
        "# print(new_delhi)"
      ],
      "metadata": {
        "colab": {
          "base_uri": "https://localhost:8080/",
          "height": 35
        },
        "id": "Mf0hq8_dG0KP",
        "outputId": "5de38717-1bf2-44eb-966d-f22ce7012f18"
      },
      "execution_count": 22,
      "outputs": [
        {
          "output_type": "execute_result",
          "data": {
            "text/plain": [
              "'This is very old City.However, near to Panjab. I lived here.'"
            ],
            "application/vnd.google.colaboratory.intrinsic+json": {
              "type": "string"
            }
          },
          "metadata": {},
          "execution_count": 22
        }
      ]
    },
    {
      "cell_type": "code",
      "source": [
        "name='Uma Sudarsan '\n",
        "name\n"
      ],
      "metadata": {
        "colab": {
          "base_uri": "https://localhost:8080/",
          "height": 35
        },
        "id": "MEpOvl1hHqL8",
        "outputId": "ab46c666-9682-4690-b3cd-fe4bf28d88be"
      },
      "execution_count": 32,
      "outputs": [
        {
          "output_type": "execute_result",
          "data": {
            "text/plain": [
              "'Uma Sudarsan '"
            ],
            "application/vnd.google.colaboratory.intrinsic+json": {
              "type": "string"
            }
          },
          "metadata": {},
          "execution_count": 32
        }
      ]
    },
    {
      "cell_type": "code",
      "source": [
        "name='Uma \\tSudarsan '\n",
        "print(name )"
      ],
      "metadata": {
        "colab": {
          "base_uri": "https://localhost:8080/"
        },
        "id": "B6FCMg4KI1Vk",
        "outputId": "bcec767a-0e73-4c96-8a06-5759bdf97f67"
      },
      "execution_count": 34,
      "outputs": [
        {
          "output_type": "stream",
          "name": "stdout",
          "text": [
            "Uma \tSudarsan \n"
          ]
        }
      ]
    },
    {
      "cell_type": "code",
      "source": [
        "name='Uma \\t\\tSudarsan '\n",
        "print(name )"
      ],
      "metadata": {
        "colab": {
          "base_uri": "https://localhost:8080/"
        },
        "id": "W6dGmAzKIuBo",
        "outputId": "cfedf855-29db-4a07-d6a6-e2a4c7788466"
      },
      "execution_count": 35,
      "outputs": [
        {
          "output_type": "stream",
          "name": "stdout",
          "text": [
            "Uma \t\tSudarsan \n"
          ]
        }
      ]
    },
    {
      "cell_type": "code",
      "source": [
        "candidate_name='Anusha Shivan\\na'\n",
        "print(candidate_name)"
      ],
      "metadata": {
        "colab": {
          "base_uri": "https://localhost:8080/"
        },
        "id": "BFbSSlf8JAP7",
        "outputId": "ea79698f-6009-4ba1-95f9-2805b5f18b39"
      },
      "execution_count": 37,
      "outputs": [
        {
          "output_type": "stream",
          "name": "stdout",
          "text": [
            "Anusha Shivan\n",
            "a\n"
          ]
        }
      ]
    },
    {
      "cell_type": "code",
      "source": [
        "candidate_name='Muska\\n Faruqui'\n",
        "print(candidate_name)"
      ],
      "metadata": {
        "colab": {
          "base_uri": "https://localhost:8080/"
        },
        "id": "Ct8ERG3eJzAI",
        "outputId": "269fffec-ed44-491a-c58d-c693c2ddcdc6"
      },
      "execution_count": 39,
      "outputs": [
        {
          "output_type": "stream",
          "name": "stdout",
          "text": [
            "Muska\n",
            " Faruqui\n"
          ]
        }
      ]
    },
    {
      "cell_type": "code",
      "source": [
        "candidate_name='Adi\\\\ti Gupta'\n",
        "print(candidate_name)"
      ],
      "metadata": {
        "colab": {
          "base_uri": "https://localhost:8080/"
        },
        "id": "qY22CaXoKIXs",
        "outputId": "0a7a97a2-67a5-44b0-8502-cf11c254c0cc"
      },
      "execution_count": 42,
      "outputs": [
        {
          "output_type": "stream",
          "name": "stdout",
          "text": [
            "Adi\\ti Gupta\n"
          ]
        }
      ]
    },
    {
      "cell_type": "code",
      "source": [
        "# Solution 1\n",
        "candidate_name='Muska\\\\n Faruqui'\n",
        "print(candidate_name)"
      ],
      "metadata": {
        "colab": {
          "base_uri": "https://localhost:8080/"
        },
        "id": "OaE02bdyJVaA",
        "outputId": "cbdf4cae-bc1c-4960-ca53-7c0f7ff710b3"
      },
      "execution_count": 43,
      "outputs": [
        {
          "output_type": "stream",
          "name": "stdout",
          "text": [
            "Muska\\n Faruqui\n"
          ]
        }
      ]
    },
    {
      "cell_type": "code",
      "source": [
        "# Solution 2\n",
        "candidate_name=r'Muska\\n Faruqui \\t Name'\n",
        "print(candidate_name)"
      ],
      "metadata": {
        "colab": {
          "base_uri": "https://localhost:8080/"
        },
        "id": "L1sQEYPaKdSv",
        "outputId": "1b712c31-a8e8-42df-d9d0-4d67f478c590"
      },
      "execution_count": 47,
      "outputs": [
        {
          "output_type": "stream",
          "name": "stdout",
          "text": [
            "Muska\\n Faruqui \\t Name\n"
          ]
        }
      ]
    },
    {
      "cell_type": "markdown",
      "source": [
        "# Concatenation"
      ],
      "metadata": {
        "id": "RtYsA2mXK3au"
      }
    },
    {
      "cell_type": "code",
      "source": [
        "first_name='Arpit'\n",
        "second_name='Kumar'\n",
        "full_name=first_name+\" \"+second_name\n",
        "full_name"
      ],
      "metadata": {
        "colab": {
          "base_uri": "https://localhost:8080/",
          "height": 35
        },
        "id": "PTUOhFaIKiag",
        "outputId": "85d168e0-6235-4469-c07b-eb9da5ea61eb"
      },
      "execution_count": 49,
      "outputs": [
        {
          "output_type": "execute_result",
          "data": {
            "text/plain": [
              "'Arpit Kumar'"
            ],
            "application/vnd.google.colaboratory.intrinsic+json": {
              "type": "string"
            }
          },
          "metadata": {},
          "execution_count": 49
        }
      ]
    },
    {
      "cell_type": "markdown",
      "source": [
        "# Multiplication"
      ],
      "metadata": {
        "id": "jzJJASb3LVXH"
      }
    },
    {
      "cell_type": "code",
      "source": [
        "greet= 'Hi '\n",
        "# inpu=int(input(\"How many times you want to greet?  \"))\n"
      ],
      "metadata": {
        "id": "Su5tIuq4LD7B"
      },
      "execution_count": 60,
      "outputs": []
    },
    {
      "cell_type": "code",
      "source": [
        "name='Sachin'\n",
        "print(name[1])"
      ],
      "metadata": {
        "colab": {
          "base_uri": "https://localhost:8080/"
        },
        "id": "uWuc9tk6LZCd",
        "outputId": "ba57fb55-9f37-4618-e0ff-0040a16c1821"
      },
      "execution_count": 61,
      "outputs": [
        {
          "output_type": "stream",
          "name": "stdout",
          "text": [
            "a\n"
          ]
        }
      ]
    },
    {
      "cell_type": "code",
      "source": [
        "name[1:4]"
      ],
      "metadata": {
        "colab": {
          "base_uri": "https://localhost:8080/",
          "height": 35
        },
        "id": "cC1nm3RDMV7H",
        "outputId": "b9ec6045-9587-43db-d263-cc82f19ddc8d"
      },
      "execution_count": 62,
      "outputs": [
        {
          "output_type": "execute_result",
          "data": {
            "text/plain": [
              "'ach'"
            ],
            "application/vnd.google.colaboratory.intrinsic+json": {
              "type": "string"
            }
          },
          "metadata": {},
          "execution_count": 62
        }
      ]
    },
    {
      "cell_type": "code",
      "source": [
        "name[3:]"
      ],
      "metadata": {
        "colab": {
          "base_uri": "https://localhost:8080/",
          "height": 35
        },
        "id": "g54ZmPZJMzsb",
        "outputId": "38bdd6eb-7cd8-4613-e3a7-89c4c06d627e"
      },
      "execution_count": 64,
      "outputs": [
        {
          "output_type": "execute_result",
          "data": {
            "text/plain": [
              "'hin'"
            ],
            "application/vnd.google.colaboratory.intrinsic+json": {
              "type": "string"
            }
          },
          "metadata": {},
          "execution_count": 64
        }
      ]
    },
    {
      "cell_type": "code",
      "source": [
        "name='Anusha'\n",
        "name[:3]"
      ],
      "metadata": {
        "colab": {
          "base_uri": "https://localhost:8080/",
          "height": 35
        },
        "id": "YCGot5CaM5Cp",
        "outputId": "07dc9056-19c7-45f1-d1ab-df601e2bc130"
      },
      "execution_count": 65,
      "outputs": [
        {
          "output_type": "execute_result",
          "data": {
            "text/plain": [
              "'Anu'"
            ],
            "application/vnd.google.colaboratory.intrinsic+json": {
              "type": "string"
            }
          },
          "metadata": {},
          "execution_count": 65
        }
      ]
    }
  ]
}