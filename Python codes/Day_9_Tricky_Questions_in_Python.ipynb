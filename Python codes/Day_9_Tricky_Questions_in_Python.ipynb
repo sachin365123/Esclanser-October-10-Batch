{
  "nbformat": 4,
  "nbformat_minor": 0,
  "metadata": {
    "colab": {
      "provenance": []
    },
    "kernelspec": {
      "name": "python3",
      "display_name": "Python 3"
    },
    "language_info": {
      "name": "python"
    }
  },
  "cells": [
    {
      "cell_type": "markdown",
      "source": [
        "## Question 1:  Why do you get an error, and how would you fix it?\n",
        "\n",
        "#### def foo(a=2, b):\n",
        "####    return a + b"
      ],
      "metadata": {
        "id": "YLcFRdyerfqN"
      }
    },
    {
      "cell_type": "code",
      "execution_count": 5,
      "metadata": {
        "id": "YfL0MzEIqttr"
      },
      "outputs": [],
      "source": [
        "# creation of the function\n",
        "# a is default argument where as b is non-default argument\n",
        "def foo(a, b=2):\n",
        "  return a + b"
      ]
    },
    {
      "cell_type": "code",
      "source": [
        "print(foo(5,3))"
      ],
      "metadata": {
        "colab": {
          "base_uri": "https://localhost:8080/"
        },
        "id": "vOrbA_tirpe1",
        "outputId": "d26bafe8-3c78-4c92-eb50-3da458407f08"
      },
      "execution_count": 6,
      "outputs": [
        {
          "output_type": "stream",
          "name": "stdout",
          "text": [
            "8\n"
          ]
        }
      ]
    },
    {
      "cell_type": "markdown",
      "source": [
        "## Question 2:  Why is there an error in the code, and how would you fix it?\n",
        "\n",
        "### def foo(a=1, b=2):\n",
        "###     return a + b\n",
        "\n",
        "### x = foo - 1"
      ],
      "metadata": {
        "id": "w9spob7Ws8C0"
      }
    },
    {
      "cell_type": "code",
      "source": [
        "def foo(a=1, b=2):\n",
        "  return a + b\n",
        "\n"
      ],
      "metadata": {
        "id": "MaGHWyMRr-yx"
      },
      "execution_count": 9,
      "outputs": []
    },
    {
      "cell_type": "code",
      "source": [
        "foo()"
      ],
      "metadata": {
        "colab": {
          "base_uri": "https://localhost:8080/"
        },
        "id": "Fg8df-CotboD",
        "outputId": "585bb5d8-1015-4693-9f02-e95653df4d49"
      },
      "execution_count": 10,
      "outputs": [
        {
          "output_type": "execute_result",
          "data": {
            "text/plain": [
              "3"
            ]
          },
          "metadata": {},
          "execution_count": 10
        }
      ]
    },
    {
      "cell_type": "code",
      "source": [
        "# x=foo-1\n",
        "# x"
      ],
      "metadata": {
        "id": "jaG40N2btear"
      },
      "execution_count": 17,
      "outputs": []
    },
    {
      "cell_type": "code",
      "source": [
        "# x = foo - 1\n",
        "x = foo() - 1\n",
        "x"
      ],
      "metadata": {
        "colab": {
          "base_uri": "https://localhost:8080/"
        },
        "id": "exKE6EwatZSJ",
        "outputId": "03ea19b3-c79f-4188-83f2-79639397b60d"
      },
      "execution_count": 15,
      "outputs": [
        {
          "output_type": "execute_result",
          "data": {
            "text/plain": [
              "2"
            ]
          },
          "metadata": {},
          "execution_count": 15
        }
      ]
    },
    {
      "cell_type": "code",
      "source": [
        "print(type(foo))"
      ],
      "metadata": {
        "colab": {
          "base_uri": "https://localhost:8080/"
        },
        "id": "hm8MIIlztEYb",
        "outputId": "7d61fc3d-55a7-4a8c-ad4c-23e163a9dbf2"
      },
      "execution_count": 8,
      "outputs": [
        {
          "output_type": "stream",
          "name": "stdout",
          "text": [
            "<class 'function'>\n"
          ]
        }
      ]
    },
    {
      "cell_type": "code",
      "source": [
        "print(type(foo()))"
      ],
      "metadata": {
        "colab": {
          "base_uri": "https://localhost:8080/"
        },
        "id": "yqN00RGFtN_X",
        "outputId": "3b70ecfb-d6e2-4d5a-f376-ce2a392337c5"
      },
      "execution_count": 14,
      "outputs": [
        {
          "output_type": "stream",
          "name": "stdout",
          "text": [
            "<class 'int'>\n"
          ]
        }
      ]
    },
    {
      "cell_type": "markdown",
      "source": [
        "## Question 3: Please complete the code so that it prints out the expected output.\n",
        "\n",
        "### a = [1, 2, 3]\n",
        "\n",
        "#### Expected output:\n",
        "\n",
        "#### Item 1 has index 0\n",
        "#### Item 2 has index 1\n",
        "#### Item 3 has index 2"
      ],
      "metadata": {
        "id": "DKeAY7l5uNm0"
      }
    },
    {
      "cell_type": "code",
      "source": [
        "a=['Data','ML','OOPS', 'Biology','Uma','Sahil','Fatima','Priya', 'Aditiu','Nishi']\n",
        "for index, item in enumerate(a):\n",
        "  print(\"Item %s has index %s\" % (item,index))"
      ],
      "metadata": {
        "colab": {
          "base_uri": "https://localhost:8080/"
        },
        "id": "9xS1pn_XtsY6",
        "outputId": "ce99f95b-b148-43db-b2d1-496fcd1717d1"
      },
      "execution_count": 21,
      "outputs": [
        {
          "output_type": "stream",
          "name": "stdout",
          "text": [
            "Item Data has index 0\n",
            "Item ML has index 1\n",
            "Item OOPS has index 2\n",
            "Item Biology has index 3\n",
            "Item Uma has index 4\n",
            "Item Sahil has index 5\n",
            "Item Fatima has index 6\n",
            "Item Priya has index 7\n",
            "Item Aditiu has index 8\n",
            "Item Nishi has index 9\n"
          ]
        }
      ]
    },
    {
      "cell_type": "code",
      "source": [
        "library = {'Book_name':'Ramayan','Page_no':521,'Price':1250.75,'Lang':'Sanskrit'}"
      ],
      "metadata": {
        "id": "PhHBKl0tu0-t"
      },
      "execution_count": 22,
      "outputs": []
    },
    {
      "cell_type": "code",
      "source": [
        "library"
      ],
      "metadata": {
        "colab": {
          "base_uri": "https://localhost:8080/"
        },
        "id": "T770n1huwTeN",
        "outputId": "dc5c2a5d-e078-4a3c-c4ff-ab22e8715009"
      },
      "execution_count": 23,
      "outputs": [
        {
          "output_type": "execute_result",
          "data": {
            "text/plain": [
              "{'Book_name': 'Ramayan', 'Page_no': 521, 'Price': 1250.75, 'Lang': 'Sanskrit'}"
            ]
          },
          "metadata": {},
          "execution_count": 23
        }
      ]
    },
    {
      "cell_type": "code",
      "source": [
        "library.keys()"
      ],
      "metadata": {
        "colab": {
          "base_uri": "https://localhost:8080/"
        },
        "id": "nJYgvPGrwU6r",
        "outputId": "9ece3c7b-4a28-4374-a8c9-e7a8b8794c7a"
      },
      "execution_count": 24,
      "outputs": [
        {
          "output_type": "execute_result",
          "data": {
            "text/plain": [
              "dict_keys(['Book_name', 'Page_no', 'Price', 'Lang'])"
            ]
          },
          "metadata": {},
          "execution_count": 24
        }
      ]
    },
    {
      "cell_type": "code",
      "source": [
        "library.values()"
      ],
      "metadata": {
        "colab": {
          "base_uri": "https://localhost:8080/"
        },
        "id": "xRUpSCHKwY3O",
        "outputId": "6b734475-76e0-45a6-c471-0e69b92ebe30"
      },
      "execution_count": 25,
      "outputs": [
        {
          "output_type": "execute_result",
          "data": {
            "text/plain": [
              "dict_values(['Ramayan', 521, 1250.75, 'Sanskrit'])"
            ]
          },
          "metadata": {},
          "execution_count": 25
        }
      ]
    },
    {
      "cell_type": "code",
      "source": [
        "library.items()"
      ],
      "metadata": {
        "colab": {
          "base_uri": "https://localhost:8080/"
        },
        "id": "aK4RLwD8wiu2",
        "outputId": "a7c9ac86-9d7f-4d00-a300-d7531aa817f3"
      },
      "execution_count": 26,
      "outputs": [
        {
          "output_type": "execute_result",
          "data": {
            "text/plain": [
              "dict_items([('Book_name', 'Ramayan'), ('Page_no', 521), ('Price', 1250.75), ('Lang', 'Sanskrit')])"
            ]
          },
          "metadata": {},
          "execution_count": 26
        }
      ]
    },
    {
      "cell_type": "code",
      "source": [
        "for key, value in library.items():\n",
        "  print('My book has', key ,'as',value )"
      ],
      "metadata": {
        "colab": {
          "base_uri": "https://localhost:8080/"
        },
        "id": "Di_fH0JLwqTS",
        "outputId": "991281af-ff9d-4a98-b7d7-26aec437f0a6"
      },
      "execution_count": 30,
      "outputs": [
        {
          "output_type": "stream",
          "name": "stdout",
          "text": [
            "My book has Book_name as Ramayan\n",
            "My book has Page_no as 521\n",
            "My book has Price as 1250.75\n",
            "My book has Lang as Sanskrit\n"
          ]
        }
      ]
    },
    {
      "cell_type": "markdown",
      "source": [
        "### Question 4:\n",
        "### Create a variable called the_string and assign it the string \"Data Analytics\".\n",
        "\n",
        "### Call .rjust() on the_string with 17 as its argument and print() the result.\n",
        "\n",
        "### Call .ljust() on the_string with the arguments 17 and \"*\" then print() the result.\n",
        "\n",
        "### Create a variable called center_plus and assign it the result of .center() being called on the_string with 16 and \"+\" as arguments.\n",
        "\n",
        "### Use print() to display the string assigned to center_plus.\n",
        "\n",
        "### Call .lstrip() on the_string to remove \"Data\" then print() the result.\n",
        "\n",
        "### Call .rstrip() on center_plus with \"+\" as its argument and print() the result.\n",
        "\n",
        "### Call .strip() on center_plus with \"+\" as its argument and print() the result.\n",
        "\n",
        "### Call .replace() on the_string and replace \"Data\" with \"Machine\".  print() the result."
      ],
      "metadata": {
        "id": "7NVHQz7LxZtY"
      }
    },
    {
      "cell_type": "code",
      "source": [
        "the_string = \"Data Analytics\""
      ],
      "metadata": {
        "id": "9ysO7FwUw59y"
      },
      "execution_count": 32,
      "outputs": []
    },
    {
      "cell_type": "code",
      "source": [
        "print(the_string)"
      ],
      "metadata": {
        "colab": {
          "base_uri": "https://localhost:8080/"
        },
        "id": "uPL46Vy4yBQx",
        "outputId": "8284ea0b-e8b6-4779-95c8-e2db798832da"
      },
      "execution_count": 34,
      "outputs": [
        {
          "output_type": "stream",
          "name": "stdout",
          "text": [
            "Data Analytics\n"
          ]
        }
      ]
    },
    {
      "cell_type": "code",
      "source": [
        "# 1 .rjust(17)\n",
        "print(the_string.rjust(25))\n"
      ],
      "metadata": {
        "colab": {
          "base_uri": "https://localhost:8080/"
        },
        "id": "Of3IKN3tx14k",
        "outputId": "d39901df-3809-4837-e3f1-a67d2dc69b07"
      },
      "execution_count": 36,
      "outputs": [
        {
          "output_type": "stream",
          "name": "stdout",
          "text": [
            "           Data Analytics\n"
          ]
        }
      ]
    },
    {
      "cell_type": "code",
      "source": [
        "# 2 .ljust(17, '*)\n",
        "print(the_string.ljust(17, '*'))"
      ],
      "metadata": {
        "colab": {
          "base_uri": "https://localhost:8080/"
        },
        "id": "H9M0qFf2x9PP",
        "outputId": "1d55df8b-68ef-4d7e-a0b5-39d717fcc104"
      },
      "execution_count": 35,
      "outputs": [
        {
          "output_type": "stream",
          "name": "stdout",
          "text": [
            "Data Analytics***\n"
          ]
        }
      ]
    },
    {
      "cell_type": "code",
      "source": [
        "# 3 center_plus .center\n",
        "center_plus =the_string.center(16,'+')\n",
        "center_plus"
      ],
      "metadata": {
        "colab": {
          "base_uri": "https://localhost:8080/",
          "height": 35
        },
        "id": "7nZBM96byeJU",
        "outputId": "3aea27d3-78d6-4595-b5d1-f3e7fba13892"
      },
      "execution_count": 38,
      "outputs": [
        {
          "output_type": "execute_result",
          "data": {
            "text/plain": [
              "'+Data Analytics+'"
            ],
            "application/vnd.google.colaboratory.intrinsic+json": {
              "type": "string"
            }
          },
          "metadata": {},
          "execution_count": 38
        }
      ]
    },
    {
      "cell_type": "code",
      "source": [
        "# 4 .lstrip()\n",
        "print(the_string.lstrip('Data'))"
      ],
      "metadata": {
        "colab": {
          "base_uri": "https://localhost:8080/"
        },
        "id": "1D1lHRXkyzNK",
        "outputId": "f01fd440-2e66-43d6-e4a7-8e4ae1389a2b"
      },
      "execution_count": 39,
      "outputs": [
        {
          "output_type": "stream",
          "name": "stdout",
          "text": [
            " Analytics\n"
          ]
        }
      ]
    },
    {
      "cell_type": "code",
      "source": [
        "# 5 .rstrip()\n",
        "print(the_string.rstrip('Analytics'))"
      ],
      "metadata": {
        "colab": {
          "base_uri": "https://localhost:8080/"
        },
        "id": "3QusohOKzECT",
        "outputId": "140f9024-4df0-4b1c-dc2e-ebeb8383cbd8"
      },
      "execution_count": 40,
      "outputs": [
        {
          "output_type": "stream",
          "name": "stdout",
          "text": [
            "Data \n"
          ]
        }
      ]
    },
    {
      "cell_type": "code",
      "source": [
        "# 6 center_plus .strip()\n",
        "print(center_plus)\n",
        "print(center_plus.strip('+'))"
      ],
      "metadata": {
        "colab": {
          "base_uri": "https://localhost:8080/"
        },
        "id": "QBFnlwuxzeCe",
        "outputId": "ee8bad10-22e2-4879-9424-0d073ecee2aa"
      },
      "execution_count": 43,
      "outputs": [
        {
          "output_type": "stream",
          "name": "stdout",
          "text": [
            "+Data Analytics+\n",
            "Data Analytics\n"
          ]
        }
      ]
    },
    {
      "cell_type": "code",
      "source": [
        "# 7 .replace ()\n",
        "print(the_string)\n",
        "print(the_string.replace('Data','Machine'))"
      ],
      "metadata": {
        "colab": {
          "base_uri": "https://localhost:8080/"
        },
        "id": "ILeaLKaRzqZw",
        "outputId": "5ab00918-d219-408d-c45c-e2cacbcd1b83"
      },
      "execution_count": 44,
      "outputs": [
        {
          "output_type": "stream",
          "name": "stdout",
          "text": [
            "Data Analytics\n",
            "Machine Analytics\n"
          ]
        }
      ]
    },
    {
      "cell_type": "markdown",
      "source": [
        "### Question 5: Programming Challenge: String Reverser\n",
        "#### For this challenge, you will be writing a program which uses a for loop to reverse a string.\n",
        "\n",
        "#### Start by creating a variable and assigning it a string as user input using input()."
      ],
      "metadata": {
        "id": "ytVCUbjf1ACX"
      }
    },
    {
      "cell_type": "code",
      "source": [
        "user_string = input(\"Please enter a string.\")\n",
        "reversed = \"\""
      ],
      "metadata": {
        "colab": {
          "base_uri": "https://localhost:8080/"
        },
        "id": "yHntPZ0A0HS0",
        "outputId": "aaf639d1-141c-441f-f043-6988314d5ace"
      },
      "execution_count": 51,
      "outputs": [
        {
          "name": "stdout",
          "output_type": "stream",
          "text": [
            "Please enter a string.Priya\n"
          ]
        }
      ]
    },
    {
      "cell_type": "code",
      "source": [
        "print(reversed)"
      ],
      "metadata": {
        "colab": {
          "base_uri": "https://localhost:8080/"
        },
        "id": "V6xtUWoY192X",
        "outputId": "2780a658-b2d2-47f6-ec62-0fcc6cce6df0"
      },
      "execution_count": 52,
      "outputs": [
        {
          "output_type": "stream",
          "name": "stdout",
          "text": [
            "\n"
          ]
        }
      ]
    },
    {
      "cell_type": "code",
      "source": [
        "print(len(user_string))"
      ],
      "metadata": {
        "colab": {
          "base_uri": "https://localhost:8080/"
        },
        "id": "3jSnh9vT2KO4",
        "outputId": "cdb4c452-b5ff-40b0-e4ba-3e1377f13962"
      },
      "execution_count": 53,
      "outputs": [
        {
          "output_type": "stream",
          "name": "stdout",
          "text": [
            "5\n"
          ]
        }
      ]
    },
    {
      "cell_type": "code",
      "source": [
        "len(user_string)-1"
      ],
      "metadata": {
        "colab": {
          "base_uri": "https://localhost:8080/"
        },
        "id": "chugL5-X33wA",
        "outputId": "9f8cc080-0f15-4ce5-af60-86fb76e52d56"
      },
      "execution_count": 71,
      "outputs": [
        {
          "output_type": "execute_result",
          "data": {
            "text/plain": [
              "4"
            ]
          },
          "metadata": {},
          "execution_count": 71
        }
      ]
    },
    {
      "cell_type": "code",
      "source": [
        "for item in range(len(user_string)-1, -1, -1):\n",
        "  reversed+= user_string[item]"
      ],
      "metadata": {
        "id": "etEb2wXB1glh"
      },
      "execution_count": 54,
      "outputs": []
    },
    {
      "cell_type": "code",
      "source": [
        "print(reversed)"
      ],
      "metadata": {
        "colab": {
          "base_uri": "https://localhost:8080/"
        },
        "id": "pY8iu1UG1rPZ",
        "outputId": "a52171aa-5d7a-4b97-d9f4-e13e1a810510"
      },
      "execution_count": 55,
      "outputs": [
        {
          "output_type": "stream",
          "name": "stdout",
          "text": [
            "ayirP\n"
          ]
        }
      ]
    },
    {
      "cell_type": "code",
      "source": [
        "for uma in range(4,-1,-1):\n",
        "  print(uma)"
      ],
      "metadata": {
        "colab": {
          "base_uri": "https://localhost:8080/"
        },
        "id": "roPS5UdA1tbm",
        "outputId": "bbb6d975-0188-4b8b-ef3c-04ffd23fbd74"
      },
      "execution_count": 70,
      "outputs": [
        {
          "output_type": "stream",
          "name": "stdout",
          "text": [
            "4\n",
            "3\n",
            "2\n",
            "1\n",
            "0\n"
          ]
        }
      ]
    },
    {
      "cell_type": "code",
      "source": [],
      "metadata": {
        "id": "-iGNTo3y20EY"
      },
      "execution_count": null,
      "outputs": []
    }
  ]
}