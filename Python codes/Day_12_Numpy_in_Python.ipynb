{
  "nbformat": 4,
  "nbformat_minor": 0,
  "metadata": {
    "colab": {
      "provenance": []
    },
    "kernelspec": {
      "name": "python3",
      "display_name": "Python 3"
    },
    "language_info": {
      "name": "python"
    }
  },
  "cells": [
    {
      "cell_type": "markdown",
      "source": [
        "## Numpy is the core library for scientific computing in Python.\n",
        "\n",
        "#### It provides a high-performance multidimensional array object, and tools for working with these arrays.\n",
        "##### If you are already familiar with MATLAB, you might find this tutorial useful to get started with Numpy."
      ],
      "metadata": {
        "id": "SCCPYGunRTE8"
      }
    },
    {
      "cell_type": "markdown",
      "source": [
        "## Why not List?"
      ],
      "metadata": {
        "id": "3kfbxeFgRyr9"
      }
    },
    {
      "cell_type": "code",
      "execution_count": 1,
      "metadata": {
        "id": "TPWG5Kh_Q-sK"
      },
      "outputs": [],
      "source": [
        "p= [5,8,1,3]"
      ]
    },
    {
      "cell_type": "code",
      "source": [
        "p+2\n",
        "# output: [7, 10, 2, 5]"
      ],
      "metadata": {
        "id": "ElnbL8ZLR4qZ"
      },
      "execution_count": 3,
      "outputs": []
    },
    {
      "cell_type": "code",
      "source": [
        "p*2\n",
        "# output: [14, 20, 4, 10]\n",
        "# its showing same value two times"
      ],
      "metadata": {
        "colab": {
          "base_uri": "https://localhost:8080/"
        },
        "id": "kbY_t9mcSNYp",
        "outputId": "9c68d2c5-4111-4354-9da2-c07450f84e88"
      },
      "execution_count": 5,
      "outputs": [
        {
          "output_type": "execute_result",
          "data": {
            "text/plain": [
              "[5, 8, 1, 3, 5, 8, 1, 3]"
            ]
          },
          "metadata": {},
          "execution_count": 5
        }
      ]
    },
    {
      "cell_type": "code",
      "source": [
        "# self addition\n",
        "p+p"
      ],
      "metadata": {
        "colab": {
          "base_uri": "https://localhost:8080/"
        },
        "id": "0W13zU9WSW7Z",
        "outputId": "0f4b5b0f-d29a-4e9b-f830-56050ae306b7"
      },
      "execution_count": 6,
      "outputs": [
        {
          "output_type": "execute_result",
          "data": {
            "text/plain": [
              "[5, 8, 1, 3, 5, 8, 1, 3]"
            ]
          },
          "metadata": {},
          "execution_count": 6
        }
      ]
    },
    {
      "cell_type": "code",
      "source": [
        "# p-5"
      ],
      "metadata": {
        "id": "HPzJa6wxUoN8"
      },
      "execution_count": 17,
      "outputs": []
    },
    {
      "cell_type": "code",
      "source": [
        "# p*p"
      ],
      "metadata": {
        "id": "wC9uJblNSjWx"
      },
      "execution_count": 8,
      "outputs": []
    },
    {
      "cell_type": "markdown",
      "source": [
        "# These are the reasons, developers swithced to Numpy...."
      ],
      "metadata": {
        "id": "mruZnmLJSs-q"
      }
    },
    {
      "cell_type": "markdown",
      "source": [
        "In computer programming, an array is a structure for storing and retrieving data. We often talk about an array as if it were a grid in space, with each cell storing one element of the data. For instance, if each element of the data were a number, we might visualize a “one-dimensional” array like a list:"
      ],
      "metadata": {
        "id": "ckoNqokeS0XY"
      }
    },
    {
      "cell_type": "markdown",
      "source": [
        "Having same kind of values in array"
      ],
      "metadata": {
        "id": "LxCgCaLVS61l"
      }
    },
    {
      "cell_type": "code",
      "source": [
        "# import NumPy library\n",
        "import numpy as np\n"
      ],
      "metadata": {
        "id": "BZywGt_tSmvo"
      },
      "execution_count": 9,
      "outputs": []
    },
    {
      "cell_type": "code",
      "source": [
        "a = np.array([2,5,8])  # Create a rank of 1 array\n",
        "print(type(a))         # Prints \"<class 'numpy.ndarray'>\"\n",
        "print(a.shape)         # Prints \"(3,)\""
      ],
      "metadata": {
        "colab": {
          "base_uri": "https://localhost:8080/"
        },
        "id": "ybpvh6_eTF2M",
        "outputId": "793f849e-dd15-4a7f-bd9a-de4d0a723852"
      },
      "execution_count": 11,
      "outputs": [
        {
          "output_type": "stream",
          "name": "stdout",
          "text": [
            "<class 'numpy.ndarray'>\n",
            "(3,)\n"
          ]
        }
      ]
    },
    {
      "cell_type": "code",
      "source": [
        "b = np.array([[2,5,8],[1,9,3]])\n",
        "print(b.shape)"
      ],
      "metadata": {
        "colab": {
          "base_uri": "https://localhost:8080/"
        },
        "id": "7uLzQks-TV23",
        "outputId": "db45ca86-af27-4cb8-b1a2-bdc96e258522"
      },
      "execution_count": 12,
      "outputs": [
        {
          "output_type": "stream",
          "name": "stdout",
          "text": [
            "(2, 3)\n"
          ]
        }
      ]
    },
    {
      "cell_type": "code",
      "source": [
        "a"
      ],
      "metadata": {
        "colab": {
          "base_uri": "https://localhost:8080/"
        },
        "id": "xrQaTVScTo7V",
        "outputId": "2e5bc6e3-2496-49ec-ac58-4e9b0ecc87b8"
      },
      "execution_count": 13,
      "outputs": [
        {
          "output_type": "execute_result",
          "data": {
            "text/plain": [
              "array([2, 5, 8])"
            ]
          },
          "metadata": {},
          "execution_count": 13
        }
      ]
    },
    {
      "cell_type": "code",
      "source": [
        "# addition\n",
        "a+2"
      ],
      "metadata": {
        "colab": {
          "base_uri": "https://localhost:8080/"
        },
        "id": "LQNnXCaXUGYb",
        "outputId": "c165b352-8014-4dc7-e86a-4ca2fc380456"
      },
      "execution_count": 14,
      "outputs": [
        {
          "output_type": "execute_result",
          "data": {
            "text/plain": [
              "array([ 4,  7, 10])"
            ]
          },
          "metadata": {},
          "execution_count": 14
        }
      ]
    },
    {
      "cell_type": "code",
      "source": [
        "# multiplication\n",
        "a*2"
      ],
      "metadata": {
        "colab": {
          "base_uri": "https://localhost:8080/"
        },
        "id": "RfzV-1hJULBR",
        "outputId": "69557fea-4122-4861-b901-3a77dbe6c19d"
      },
      "execution_count": 15,
      "outputs": [
        {
          "output_type": "execute_result",
          "data": {
            "text/plain": [
              "array([ 4, 10, 16])"
            ]
          },
          "metadata": {},
          "execution_count": 15
        }
      ]
    },
    {
      "cell_type": "code",
      "source": [
        "# Substraction\n",
        "print(a)\n",
        "print(a-5)"
      ],
      "metadata": {
        "colab": {
          "base_uri": "https://localhost:8080/"
        },
        "id": "QLMssutlUYGV",
        "outputId": "6d016ca3-3dfe-4b3d-c9ff-24e6c766173f"
      },
      "execution_count": 19,
      "outputs": [
        {
          "output_type": "stream",
          "name": "stdout",
          "text": [
            "[2 5 8]\n",
            "[-3  0  3]\n"
          ]
        }
      ]
    },
    {
      "cell_type": "code",
      "source": [
        "# self addition\n",
        "print(a)\n",
        "print(a+a)"
      ],
      "metadata": {
        "colab": {
          "base_uri": "https://localhost:8080/"
        },
        "id": "IbNc8tfcUz6c",
        "outputId": "33aa5489-1b72-458f-b6ed-2d432bf47d3e"
      },
      "execution_count": 21,
      "outputs": [
        {
          "output_type": "stream",
          "name": "stdout",
          "text": [
            "[2 5 8]\n",
            "[ 4 10 16]\n"
          ]
        }
      ]
    },
    {
      "cell_type": "code",
      "source": [
        "# self production\n",
        "print(a)\n",
        "print('*************************')\n",
        "print(a*a)"
      ],
      "metadata": {
        "colab": {
          "base_uri": "https://localhost:8080/"
        },
        "id": "7QMYuHWhVPFX",
        "outputId": "3a4db8ab-dc96-46d7-9ab1-316861a4bb70"
      },
      "execution_count": 24,
      "outputs": [
        {
          "output_type": "stream",
          "name": "stdout",
          "text": [
            "[2 5 8]\n",
            "*************************\n",
            "[ 4 25 64]\n"
          ]
        }
      ]
    },
    {
      "cell_type": "code",
      "source": [
        "# Create an array of all zeros\n",
        "c= np.zeros((5,6))\n",
        "print(c)"
      ],
      "metadata": {
        "colab": {
          "base_uri": "https://localhost:8080/"
        },
        "id": "QV2KA2QMVl-C",
        "outputId": "005961b2-292b-44a0-e52d-8b99735a2a0e"
      },
      "execution_count": 26,
      "outputs": [
        {
          "output_type": "stream",
          "name": "stdout",
          "text": [
            "[[0. 0. 0. 0. 0. 0.]\n",
            " [0. 0. 0. 0. 0. 0.]\n",
            " [0. 0. 0. 0. 0. 0.]\n",
            " [0. 0. 0. 0. 0. 0.]\n",
            " [0. 0. 0. 0. 0. 0.]]\n"
          ]
        }
      ]
    },
    {
      "cell_type": "code",
      "source": [
        "# Create an array of all ones\n",
        "c= np.ones((3,4))    # 3 rows and 4 columns\n",
        "print(c)"
      ],
      "metadata": {
        "colab": {
          "base_uri": "https://localhost:8080/"
        },
        "id": "BCEh8OE3WKVB",
        "outputId": "f58aa0ac-ce5f-4cfa-d02e-0846db8a5b09"
      },
      "execution_count": 28,
      "outputs": [
        {
          "output_type": "stream",
          "name": "stdout",
          "text": [
            "[[1. 1. 1. 1.]\n",
            " [1. 1. 1. 1.]\n",
            " [1. 1. 1. 1.]]\n"
          ]
        }
      ]
    },
    {
      "cell_type": "code",
      "source": [
        "# Create a constant array\n",
        "c= np.full((5,3),8)    # 3 rows and 4 columns\n",
        "print(c)"
      ],
      "metadata": {
        "colab": {
          "base_uri": "https://localhost:8080/"
        },
        "id": "3Leo4o4vWgq3",
        "outputId": "b7da4070-09b7-47e6-d99d-9ebdca77fdd0"
      },
      "execution_count": 32,
      "outputs": [
        {
          "output_type": "stream",
          "name": "stdout",
          "text": [
            "[[8 8 8]\n",
            " [8 8 8]\n",
            " [8 8 8]\n",
            " [8 8 8]\n",
            " [8 8 8]]\n"
          ]
        }
      ]
    },
    {
      "cell_type": "markdown",
      "source": [
        "# Random values"
      ],
      "metadata": {
        "id": "wnjO1oBKXTBN"
      }
    },
    {
      "cell_type": "code",
      "source": [
        "e = np.random.random((2,3)) # Create an array filled with random values\n",
        "print(e)"
      ],
      "metadata": {
        "colab": {
          "base_uri": "https://localhost:8080/"
        },
        "id": "Rw72zd-rXGLy",
        "outputId": "ad9f75e7-6391-46c8-c7c4-82a0813b9707"
      },
      "execution_count": 40,
      "outputs": [
        {
          "output_type": "stream",
          "name": "stdout",
          "text": [
            "[[0.92744014 0.8759802  0.40226412]\n",
            " [0.25336497 0.96379702 0.01892262]]\n"
          ]
        }
      ]
    },
    {
      "cell_type": "code",
      "source": [
        "# lets create three dimension array\n",
        "a = np.array([[1,2,3,4], [5,6,7,8], [9,10,11,12]])"
      ],
      "metadata": {
        "id": "TielbHRdXcqa"
      },
      "execution_count": 41,
      "outputs": []
    },
    {
      "cell_type": "code",
      "source": [
        "# lets create three dimension array\n",
        "b = np.array([[10,20,31,41], [15,16,72,82], [92,102,121,122]])"
      ],
      "metadata": {
        "id": "vL0Oa0_nY8uQ"
      },
      "execution_count": 47,
      "outputs": []
    },
    {
      "cell_type": "code",
      "source": [
        "# method 1\n",
        "a"
      ],
      "metadata": {
        "colab": {
          "base_uri": "https://localhost:8080/"
        },
        "id": "0L5Y_0nPXtee",
        "outputId": "33ffe6f6-d41a-49f9-f0dc-3674bf87f853"
      },
      "execution_count": 42,
      "outputs": [
        {
          "output_type": "execute_result",
          "data": {
            "text/plain": [
              "array([[ 1,  2,  3,  4],\n",
              "       [ 5,  6,  7,  8],\n",
              "       [ 9, 10, 11, 12]])"
            ]
          },
          "metadata": {},
          "execution_count": 42
        }
      ]
    },
    {
      "cell_type": "code",
      "source": [
        "# method 2\n",
        "print(a.shape)"
      ],
      "metadata": {
        "colab": {
          "base_uri": "https://localhost:8080/"
        },
        "id": "dzHbAOtvYIIv",
        "outputId": "ff5608ea-ab03-4f08-cd70-e03e131243a6"
      },
      "execution_count": 43,
      "outputs": [
        {
          "output_type": "stream",
          "name": "stdout",
          "text": [
            "(3, 4)\n"
          ]
        }
      ]
    },
    {
      "cell_type": "code",
      "source": [
        "bool_index = (a>5)   # Find the elements of a that are bigger than 2;\n",
        "                     # this returns a numpy array of Booleans of the same\n",
        "                     # shape as a, where each slot of bool_idx tells\n",
        "                     # whether that element of a is > 2.\n",
        "print(bool_index)"
      ],
      "metadata": {
        "colab": {
          "base_uri": "https://localhost:8080/"
        },
        "id": "hipq2C9mYNDK",
        "outputId": "9f903512-f51e-4272-f280-52bf9bd81441"
      },
      "execution_count": 46,
      "outputs": [
        {
          "output_type": "stream",
          "name": "stdout",
          "text": [
            "[[False False False False]\n",
            " [False  True  True  True]\n",
            " [ True  True  True  True]]\n"
          ]
        }
      ]
    },
    {
      "cell_type": "code",
      "source": [
        "a"
      ],
      "metadata": {
        "colab": {
          "base_uri": "https://localhost:8080/"
        },
        "id": "g7b8GrYLYibB",
        "outputId": "8b746f31-044b-4a23-85ca-0bebc7df1197"
      },
      "execution_count": 48,
      "outputs": [
        {
          "output_type": "execute_result",
          "data": {
            "text/plain": [
              "array([[ 1,  2,  3,  4],\n",
              "       [ 5,  6,  7,  8],\n",
              "       [ 9, 10, 11, 12]])"
            ]
          },
          "metadata": {},
          "execution_count": 48
        }
      ]
    },
    {
      "cell_type": "code",
      "source": [
        "b"
      ],
      "metadata": {
        "colab": {
          "base_uri": "https://localhost:8080/"
        },
        "id": "xoKsjb2rZCh3",
        "outputId": "6886a748-7a9a-48c2-b991-92ded76b2030"
      },
      "execution_count": 49,
      "outputs": [
        {
          "output_type": "execute_result",
          "data": {
            "text/plain": [
              "array([[ 10,  20,  31,  41],\n",
              "       [ 15,  16,  72,  82],\n",
              "       [ 92, 102, 121, 122]])"
            ]
          },
          "metadata": {},
          "execution_count": 49
        }
      ]
    },
    {
      "cell_type": "code",
      "source": [
        "print(\"Matrix A\\n\", a)\n",
        "print('*************************')\n",
        "print('*************************')\n",
        "print(\"Matrix B\\n\", b)"
      ],
      "metadata": {
        "colab": {
          "base_uri": "https://localhost:8080/"
        },
        "id": "nUbteLigZDXX",
        "outputId": "f721be16-be74-499c-8ea8-bac47cfabcdc"
      },
      "execution_count": 52,
      "outputs": [
        {
          "output_type": "stream",
          "name": "stdout",
          "text": [
            "Matrix A\n",
            " [[ 1  2  3  4]\n",
            " [ 5  6  7  8]\n",
            " [ 9 10 11 12]]\n",
            "*************************\n",
            "*************************\n",
            "Matrix B\n",
            " [[ 10  20  31  41]\n",
            " [ 15  16  72  82]\n",
            " [ 92 102 121 122]]\n"
          ]
        }
      ]
    },
    {
      "cell_type": "code",
      "source": [
        "print('Regular matrix addition A+B\\n',a+b)"
      ],
      "metadata": {
        "colab": {
          "base_uri": "https://localhost:8080/"
        },
        "id": "sDaBD4HPZKrl",
        "outputId": "f0ca2dbc-e5e8-48ed-d777-7510b440a2a8"
      },
      "execution_count": 53,
      "outputs": [
        {
          "output_type": "stream",
          "name": "stdout",
          "text": [
            "Regular matrix addition A+B\n",
            " [[ 11  22  34  45]\n",
            " [ 20  22  79  90]\n",
            " [101 112 132 134]]\n"
          ]
        }
      ]
    },
    {
      "cell_type": "code",
      "source": [
        "print(\"Matrix A\\n\", a)\n",
        "print('*************************')\n",
        "print('*************************')\n",
        "print(\"Addition using Broadcasting A+5\\n\", a + 5)"
      ],
      "metadata": {
        "colab": {
          "base_uri": "https://localhost:8080/"
        },
        "id": "vpKW6NgQZSMF",
        "outputId": "4869b070-d1b8-4978-caa8-ca3bba662c21"
      },
      "execution_count": 55,
      "outputs": [
        {
          "output_type": "stream",
          "name": "stdout",
          "text": [
            "Matrix A\n",
            " [[ 1  2  3  4]\n",
            " [ 5  6  7  8]\n",
            " [ 9 10 11 12]]\n",
            "*************************\n",
            "*************************\n",
            "Addition using Broadcasting A+5\n",
            " [[ 6  7  8  9]\n",
            " [10 11 12 13]\n",
            " [14 15 16 17]]\n"
          ]
        }
      ]
    },
    {
      "cell_type": "code",
      "source": [
        "a = np.array([[1,2], [3, 4], [5, 6]])\n",
        "print(\"Matrix A\\n\", a)\n",
        "print('*************************')\n",
        "print(\"Transposed Matrix\\n\",a.T)"
      ],
      "metadata": {
        "colab": {
          "base_uri": "https://localhost:8080/"
        },
        "id": "jBtlQSxTZrSM",
        "outputId": "7e75aeb1-8afe-479b-b438-86303b7a0ede"
      },
      "execution_count": 66,
      "outputs": [
        {
          "output_type": "stream",
          "name": "stdout",
          "text": [
            "Matrix A\n",
            " [[1 2]\n",
            " [3 4]\n",
            " [5 6]]\n",
            "*************************\n",
            "Transposed Matrix\n",
            " [[1 3 5]\n",
            " [2 4 6]]\n"
          ]
        }
      ]
    },
    {
      "cell_type": "code",
      "source": [],
      "metadata": {
        "id": "IPo5OOEfZ4NH"
      },
      "execution_count": 63,
      "outputs": []
    },
    {
      "cell_type": "code",
      "source": [],
      "metadata": {
        "id": "LSzE_rQ0Z-do"
      },
      "execution_count": 63,
      "outputs": []
    },
    {
      "cell_type": "code",
      "source": [],
      "metadata": {
        "id": "VkYI-3DUaBOi"
      },
      "execution_count": 63,
      "outputs": []
    },
    {
      "cell_type": "code",
      "source": [],
      "metadata": {
        "id": "u2wb6ojSaEws"
      },
      "execution_count": null,
      "outputs": []
    }
  ]
}