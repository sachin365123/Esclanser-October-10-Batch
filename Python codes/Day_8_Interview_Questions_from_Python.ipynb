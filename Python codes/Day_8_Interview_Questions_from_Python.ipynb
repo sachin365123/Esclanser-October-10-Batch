{
  "nbformat": 4,
  "nbformat_minor": 0,
  "metadata": {
    "colab": {
      "provenance": []
    },
    "kernelspec": {
      "name": "python3",
      "display_name": "Python 3"
    },
    "language_info": {
      "name": "python"
    }
  },
  "cells": [
    {
      "cell_type": "markdown",
      "source": [
        "# Interview Questions from Python"
      ],
      "metadata": {
        "id": "SEfu0fSWiJ55"
      }
    },
    {
      "cell_type": "markdown",
      "source": [
        "Question 1: Missing Number\n",
        "Write a function to find the missing number in a given integer array of 1 to 100. The function takes to parameter the array and the number of elements that needs to be in array.  For example if we want to find missing number from 1 to 6 the second parameter will be 6.\n",
        "\n",
        "Example\n",
        "\n",
        "missing_number([1, 2, 3, 4, 6], 6) # 5"
      ],
      "metadata": {
        "id": "tp2XvlpCiPA2"
      }
    },
    {
      "cell_type": "markdown",
      "source": [
        "# Solution"
      ],
      "metadata": {
        "id": "o-mfqNPyie7T"
      }
    },
    {
      "cell_type": "code",
      "source": [
        "# creating an array or list\n",
        "list = [1,2,3,4,5 ,7]\n",
        "sum(list)"
      ],
      "metadata": {
        "colab": {
          "base_uri": "https://localhost:8080/"
        },
        "id": "lwmNC0MEjbju",
        "outputId": "830599b6-1746-48f2-edda-d8a3924f60eb"
      },
      "execution_count": 28,
      "outputs": [
        {
          "output_type": "execute_result",
          "data": {
            "text/plain": [
              "22"
            ]
          },
          "metadata": {},
          "execution_count": 28
        }
      ]
    },
    {
      "cell_type": "code",
      "source": [
        "# total from 1 to 7\n",
        "n=13\n",
        "total = n*(n+1)//2"
      ],
      "metadata": {
        "id": "UAHspmEPiuE7"
      },
      "execution_count": 37,
      "outputs": []
    },
    {
      "cell_type": "code",
      "source": [
        "total"
      ],
      "metadata": {
        "colab": {
          "base_uri": "https://localhost:8080/"
        },
        "id": "gwLvUL6GlEPr",
        "outputId": "bfbe5708-6b58-41c0-c48a-33b46042316d"
      },
      "execution_count": 38,
      "outputs": [
        {
          "output_type": "execute_result",
          "data": {
            "text/plain": [
              "91"
            ]
          },
          "metadata": {},
          "execution_count": 38
        }
      ]
    },
    {
      "cell_type": "code",
      "source": [
        "28-22"
      ],
      "metadata": {
        "colab": {
          "base_uri": "https://localhost:8080/"
        },
        "id": "y2oxZT4Dj1Py",
        "outputId": "692787d0-b270-4e98-d31f-afbf2062357a"
      },
      "execution_count": 31,
      "outputs": [
        {
          "output_type": "execute_result",
          "data": {
            "text/plain": [
              "6"
            ]
          },
          "metadata": {},
          "execution_count": 31
        }
      ]
    },
    {
      "cell_type": "code",
      "source": [
        "1+2+3+4+5+6+7+8+9+10+11+12"
      ],
      "metadata": {
        "colab": {
          "base_uri": "https://localhost:8080/"
        },
        "id": "N3a7-Qxmi4JD",
        "outputId": "5b4a7a09-07a0-44f6-f2e2-ae6ff025518d"
      },
      "execution_count": 21,
      "outputs": [
        {
          "output_type": "execute_result",
          "data": {
            "text/plain": [
              "78"
            ]
          },
          "metadata": {},
          "execution_count": 21
        }
      ]
    },
    {
      "cell_type": "code",
      "source": [
        "total"
      ],
      "metadata": {
        "colab": {
          "base_uri": "https://localhost:8080/"
        },
        "id": "_Nla3m6hi2rk",
        "outputId": "4ff2142a-1ab8-428c-a5cc-6268a1986791"
      },
      "execution_count": 34,
      "outputs": [
        {
          "output_type": "execute_result",
          "data": {
            "text/plain": [
              "28.0"
            ]
          },
          "metadata": {},
          "execution_count": 34
        }
      ]
    },
    {
      "cell_type": "code",
      "source": [
        "# create user define function to find missing value\n",
        "\n",
        "def missing_number(arr, n):\n",
        "  # calculate the sum of first n natural numbers\n",
        "  total = n*(n+1)//2\n",
        "\n",
        "  # calculate the sum of nubers in the arr\n",
        "  sum_arr = sum(arr)\n",
        "\n",
        "  # Find the missing number by substracting sum_arr from total\n",
        "  missing = total- sum_arr\n",
        "\n",
        "  return missing\n",
        "\n"
      ],
      "metadata": {
        "id": "sQ_bn2fchPWG"
      },
      "execution_count": 22,
      "outputs": []
    },
    {
      "cell_type": "code",
      "source": [
        "# call this method or function\n",
        "missing_number(list,7)"
      ],
      "metadata": {
        "colab": {
          "base_uri": "https://localhost:8080/"
        },
        "id": "vrIVc1mikLeE",
        "outputId": "edc4c0a7-9e22-48fa-a072-4fe86d742ead"
      },
      "execution_count": 32,
      "outputs": [
        {
          "output_type": "execute_result",
          "data": {
            "text/plain": [
              "6"
            ]
          },
          "metadata": {},
          "execution_count": 32
        }
      ]
    },
    {
      "cell_type": "markdown",
      "source": [
        "Question 2:\n",
        "# Sum and Product\n",
        "Write a function that calculates the sum and product of all elements in a tuple of numbers.\n",
        "\n",
        "Example\n",
        "\n",
        "## input_tuple = (1, 2, 3, 4)\n",
        "## sum_result, product_result = sum_product(input_tuple)\n",
        "##  print(sum_result, product_result)  # Expected ## output: 10, 24\n"
      ],
      "metadata": {
        "id": "vZCYjqPRlUzw"
      }
    },
    {
      "cell_type": "markdown",
      "source": [
        "# solution"
      ],
      "metadata": {
        "id": "L-MR-GiQll1P"
      }
    },
    {
      "cell_type": "code",
      "source": [
        "def sum_product(t):\n",
        "  # initialize two variables\n",
        "  sum_result=0\n",
        "  product_result = 1\n",
        "\n",
        "  for num in t:\n",
        "    sum_result += num\n",
        "    product_result *=num\n",
        "\n",
        "  return sum_result, product_result\n"
      ],
      "metadata": {
        "id": "cPjKLakFi9rA"
      },
      "execution_count": 39,
      "outputs": []
    },
    {
      "cell_type": "code",
      "source": [
        "sum_result=0\n",
        "sum_result=0+1\n",
        "sum_result"
      ],
      "metadata": {
        "colab": {
          "base_uri": "https://localhost:8080/"
        },
        "id": "4bBQ2c3JmoYJ",
        "outputId": "ed5401a2-3419-4c1a-8f9a-f0674d4bab0b"
      },
      "execution_count": 43,
      "outputs": [
        {
          "output_type": "execute_result",
          "data": {
            "text/plain": [
              "1"
            ]
          },
          "metadata": {},
          "execution_count": 43
        }
      ]
    },
    {
      "cell_type": "code",
      "source": [
        "sum_result=1\n",
        "sum_result=1+2\n",
        "sum_result"
      ],
      "metadata": {
        "colab": {
          "base_uri": "https://localhost:8080/"
        },
        "id": "2ogeFAUSmzUn",
        "outputId": "efcdbf90-1ef0-4e4e-8429-e6631ee29ab0"
      },
      "execution_count": 44,
      "outputs": [
        {
          "output_type": "execute_result",
          "data": {
            "text/plain": [
              "3"
            ]
          },
          "metadata": {},
          "execution_count": 44
        }
      ]
    },
    {
      "cell_type": "code",
      "source": [
        "sum_result=3\n",
        "sum_result=3+3\n",
        "sum_result"
      ],
      "metadata": {
        "colab": {
          "base_uri": "https://localhost:8080/"
        },
        "id": "HffhzJPpm40U",
        "outputId": "776748ec-9772-4e7f-c744-b46b601673e9"
      },
      "execution_count": 45,
      "outputs": [
        {
          "output_type": "execute_result",
          "data": {
            "text/plain": [
              "6"
            ]
          },
          "metadata": {},
          "execution_count": 45
        }
      ]
    },
    {
      "cell_type": "code",
      "source": [
        "sum_result=6\n",
        "sum_result=6+4\n",
        "sum_result"
      ],
      "metadata": {
        "colab": {
          "base_uri": "https://localhost:8080/"
        },
        "id": "DfdgHyWEm-ww",
        "outputId": "ad984325-5913-4fe6-e3be-5853540d3099"
      },
      "execution_count": 46,
      "outputs": [
        {
          "output_type": "execute_result",
          "data": {
            "text/plain": [
              "10"
            ]
          },
          "metadata": {},
          "execution_count": 46
        }
      ]
    },
    {
      "cell_type": "code",
      "source": [
        "input_tuple = (1,2,3,4,5,78,12,100,45)\n",
        "sum_result, product_result =sum_product(input_tuple)\n",
        "print(\"Sum of all digits= \",sum_result, \"\\nMultiplication of all digits= \",product_result)"
      ],
      "metadata": {
        "colab": {
          "base_uri": "https://localhost:8080/"
        },
        "id": "COWTNJyJmAtG",
        "outputId": "7f05aabf-a269-4f95-d450-e1d9a4fb531c"
      },
      "execution_count": 49,
      "outputs": [
        {
          "output_type": "stream",
          "name": "stdout",
          "text": [
            "Sum of all digits=  250 \n",
            "Multiplication of all digits=  505440000\n"
          ]
        }
      ]
    },
    {
      "cell_type": "code",
      "source": [
        "1+2+3+4"
      ],
      "metadata": {
        "colab": {
          "base_uri": "https://localhost:8080/"
        },
        "id": "DqylR3_smOo1",
        "outputId": "c755a42f-5b9d-47ea-aca1-2e01b0521a9c"
      },
      "execution_count": 41,
      "outputs": [
        {
          "output_type": "execute_result",
          "data": {
            "text/plain": [
              "10"
            ]
          },
          "metadata": {},
          "execution_count": 41
        }
      ]
    },
    {
      "cell_type": "code",
      "source": [
        "1*2*3*4"
      ],
      "metadata": {
        "colab": {
          "base_uri": "https://localhost:8080/"
        },
        "id": "6AYRND8NmQJM",
        "outputId": "e1744acb-ca2d-4802-9435-12e2bd6371fa"
      },
      "execution_count": 42,
      "outputs": [
        {
          "output_type": "execute_result",
          "data": {
            "text/plain": [
              "24"
            ]
          },
          "metadata": {},
          "execution_count": 42
        }
      ]
    },
    {
      "cell_type": "markdown",
      "source": [
        "# Question 3: Common Elements\n",
        "### Write a function that takes two tuples and returns a tuple containing the common elements of the input tuples.\n",
        "\n",
        "### Example\n",
        "\n",
        "### tuple1 = (1, 2, 3, 4, 5)\n",
        "### tuple2 = (4, 5, 6, 7, 8)\n",
        "\n",
        "### output_tuple = common_elements(tuple1, tuple2)\n",
        "### print(output_tuple)  # Expected output: (4, 5)"
      ],
      "metadata": {
        "id": "dAI8ilVIoXsG"
      }
    },
    {
      "cell_type": "markdown",
      "source": [
        "# Solution"
      ],
      "metadata": {
        "id": "doQC19STowB0"
      }
    },
    {
      "cell_type": "code",
      "source": [
        "t = (1, 2, 3, 4, 5,5,8,1,2)\n",
        "print(type(t))\n",
        "print(\"\\n\",t)"
      ],
      "metadata": {
        "colab": {
          "base_uri": "https://localhost:8080/"
        },
        "id": "HzIa0-nfmTOb",
        "outputId": "a4a467ac-756f-4eff-ad1f-e22220f40244"
      },
      "execution_count": 58,
      "outputs": [
        {
          "output_type": "stream",
          "name": "stdout",
          "text": [
            "<class 'tuple'>\n",
            "\n",
            " (1, 2, 3, 4, 5, 5, 8, 1, 2)\n"
          ]
        }
      ]
    },
    {
      "cell_type": "code",
      "source": [
        "t=set(t)\n",
        "print(type(t))\n",
        "print(\"\\n\",t)"
      ],
      "metadata": {
        "colab": {
          "base_uri": "https://localhost:8080/"
        },
        "id": "v97I9m9RpEkK",
        "outputId": "675764c9-c1ae-4cc4-f6f1-17e5fbd3c7e2"
      },
      "execution_count": 59,
      "outputs": [
        {
          "output_type": "stream",
          "name": "stdout",
          "text": [
            "<class 'set'>\n",
            "\n",
            " {1, 2, 3, 4, 5, 8}\n"
          ]
        }
      ]
    },
    {
      "cell_type": "code",
      "source": [
        "t1=(2,5,7)\n",
        "t2=(9,6,1,7)\n",
        "t3=tuple(set(t1) & set(t2))\n",
        "t3"
      ],
      "metadata": {
        "colab": {
          "base_uri": "https://localhost:8080/"
        },
        "id": "rT0PNNOspKwx",
        "outputId": "b52636b0-3620-4bb5-f674-02da3d6adebc"
      },
      "execution_count": 62,
      "outputs": [
        {
          "output_type": "execute_result",
          "data": {
            "text/plain": [
              "(7,)"
            ]
          },
          "metadata": {},
          "execution_count": 62
        }
      ]
    },
    {
      "cell_type": "code",
      "source": [
        "tuple1 = (1, 2, 3, 4, 5,5,4)\n",
        "tuple2 = (4, 5, 6, 7, 8)\n",
        "tuple3= tuple(set(tuple1) & set(tuple2))"
      ],
      "metadata": {
        "id": "w4xzM66TpNe7"
      },
      "execution_count": 63,
      "outputs": []
    },
    {
      "cell_type": "code",
      "source": [
        "tuple3"
      ],
      "metadata": {
        "colab": {
          "base_uri": "https://localhost:8080/"
        },
        "id": "6dI04s1RqfNl",
        "outputId": "2748e4cf-bc35-4d83-f13e-8663faffd00f"
      },
      "execution_count": 64,
      "outputs": [
        {
          "output_type": "execute_result",
          "data": {
            "text/plain": [
              "(4, 5)"
            ]
          },
          "metadata": {},
          "execution_count": 64
        }
      ]
    },
    {
      "cell_type": "code",
      "source": [
        "tuple1 = (1, 2, 3, 4, 5,5,4)\n",
        "tuple2 = (4, 5, 6, 7, 8)\n",
        "tuple3= tuple(list(tuple1) & list(tuple2))"
      ],
      "metadata": {
        "colab": {
          "base_uri": "https://localhost:8080/",
          "height": 176
        },
        "id": "q-5CRCzWqgIB",
        "outputId": "8d2c7234-c47d-43da-bb26-2864e1c5009f"
      },
      "execution_count": 65,
      "outputs": [
        {
          "output_type": "error",
          "ename": "TypeError",
          "evalue": "'list' object is not callable",
          "traceback": [
            "\u001b[0;31m---------------------------------------------------------------------------\u001b[0m",
            "\u001b[0;31mTypeError\u001b[0m                                 Traceback (most recent call last)",
            "\u001b[0;32m<ipython-input-65-e869e62db8cf>\u001b[0m in \u001b[0;36m<cell line: 3>\u001b[0;34m()\u001b[0m\n\u001b[1;32m      1\u001b[0m \u001b[0mtuple1\u001b[0m \u001b[0;34m=\u001b[0m \u001b[0;34m(\u001b[0m\u001b[0;36m1\u001b[0m\u001b[0;34m,\u001b[0m \u001b[0;36m2\u001b[0m\u001b[0;34m,\u001b[0m \u001b[0;36m3\u001b[0m\u001b[0;34m,\u001b[0m \u001b[0;36m4\u001b[0m\u001b[0;34m,\u001b[0m \u001b[0;36m5\u001b[0m\u001b[0;34m,\u001b[0m\u001b[0;36m5\u001b[0m\u001b[0;34m,\u001b[0m\u001b[0;36m4\u001b[0m\u001b[0;34m)\u001b[0m\u001b[0;34m\u001b[0m\u001b[0;34m\u001b[0m\u001b[0m\n\u001b[1;32m      2\u001b[0m \u001b[0mtuple2\u001b[0m \u001b[0;34m=\u001b[0m \u001b[0;34m(\u001b[0m\u001b[0;36m4\u001b[0m\u001b[0;34m,\u001b[0m \u001b[0;36m5\u001b[0m\u001b[0;34m,\u001b[0m \u001b[0;36m6\u001b[0m\u001b[0;34m,\u001b[0m \u001b[0;36m7\u001b[0m\u001b[0;34m,\u001b[0m \u001b[0;36m8\u001b[0m\u001b[0;34m)\u001b[0m\u001b[0;34m\u001b[0m\u001b[0;34m\u001b[0m\u001b[0m\n\u001b[0;32m----> 3\u001b[0;31m \u001b[0mtuple3\u001b[0m\u001b[0;34m=\u001b[0m \u001b[0mtuple\u001b[0m\u001b[0;34m(\u001b[0m\u001b[0mlist\u001b[0m\u001b[0;34m(\u001b[0m\u001b[0mtuple1\u001b[0m\u001b[0;34m)\u001b[0m \u001b[0;34m&\u001b[0m \u001b[0mlist\u001b[0m\u001b[0;34m(\u001b[0m\u001b[0mtuple2\u001b[0m\u001b[0;34m)\u001b[0m\u001b[0;34m)\u001b[0m\u001b[0;34m\u001b[0m\u001b[0;34m\u001b[0m\u001b[0m\n\u001b[0m",
            "\u001b[0;31mTypeError\u001b[0m: 'list' object is not callable"
          ]
        }
      ]
    },
    {
      "cell_type": "code",
      "source": [
        "p= (8,7,5)\n",
        "q=list(p)"
      ],
      "metadata": {
        "colab": {
          "base_uri": "https://localhost:8080/",
          "height": 158
        },
        "id": "4_e2mt4fqsQX",
        "outputId": "db0e7cc8-2d76-40c1-d616-41ce3e4876e8"
      },
      "execution_count": 66,
      "outputs": [
        {
          "output_type": "error",
          "ename": "TypeError",
          "evalue": "'list' object is not callable",
          "traceback": [
            "\u001b[0;31m---------------------------------------------------------------------------\u001b[0m",
            "\u001b[0;31mTypeError\u001b[0m                                 Traceback (most recent call last)",
            "\u001b[0;32m<ipython-input-66-3583fb60b3e0>\u001b[0m in \u001b[0;36m<cell line: 2>\u001b[0;34m()\u001b[0m\n\u001b[1;32m      1\u001b[0m \u001b[0mp\u001b[0m\u001b[0;34m=\u001b[0m \u001b[0;34m(\u001b[0m\u001b[0;36m8\u001b[0m\u001b[0;34m,\u001b[0m\u001b[0;36m7\u001b[0m\u001b[0;34m,\u001b[0m\u001b[0;36m5\u001b[0m\u001b[0;34m)\u001b[0m\u001b[0;34m\u001b[0m\u001b[0;34m\u001b[0m\u001b[0m\n\u001b[0;32m----> 2\u001b[0;31m \u001b[0mq\u001b[0m\u001b[0;34m=\u001b[0m\u001b[0mlist\u001b[0m\u001b[0;34m(\u001b[0m\u001b[0mp\u001b[0m\u001b[0;34m)\u001b[0m\u001b[0;34m\u001b[0m\u001b[0;34m\u001b[0m\u001b[0m\n\u001b[0m",
            "\u001b[0;31mTypeError\u001b[0m: 'list' object is not callable"
          ]
        }
      ]
    },
    {
      "cell_type": "markdown",
      "source": [
        "## Question 4:\n",
        "### Concatenate\n",
        "### Write a function that takes a tuple of strings and concatenates them, separating each string with a space.\n",
        "\n",
        "### Example\n",
        "\n",
        "### input_tuple = ('Hello', 'World', 'from', 'Python')\n",
        "### output_string = concatenate_strings(input_tuple)\n",
        "### print(output_string)  \n",
        "#### Expected output: 'Hello World from Python'"
      ],
      "metadata": {
        "id": "msVj_nW9rKQb"
      }
    },
    {
      "cell_type": "markdown",
      "source": [
        "### Solution"
      ],
      "metadata": {
        "id": "IjyRvO4brovb"
      }
    },
    {
      "cell_type": "code",
      "source": [
        "input_tuple = ('Hello', 'World', 'from', 'Python')\n",
        "input_tuple"
      ],
      "metadata": {
        "colab": {
          "base_uri": "https://localhost:8080/"
        },
        "id": "s4g1h0vUqzir",
        "outputId": "8f56f9b6-130f-4ee2-9dfa-7beb58620a00"
      },
      "execution_count": 67,
      "outputs": [
        {
          "output_type": "execute_result",
          "data": {
            "text/plain": [
              "('Hello', 'World', 'from', 'Python')"
            ]
          },
          "metadata": {},
          "execution_count": 67
        }
      ]
    },
    {
      "cell_type": "code",
      "source": [
        "message = ' '.join(input_tuple)\n",
        "message"
      ],
      "metadata": {
        "colab": {
          "base_uri": "https://localhost:8080/",
          "height": 35
        },
        "id": "xT4XfiRDrvRb",
        "outputId": "a1b33ee6-723b-4097-cea4-e0e91c7f6847"
      },
      "execution_count": 68,
      "outputs": [
        {
          "output_type": "execute_result",
          "data": {
            "text/plain": [
              "'Hello World from Python'"
            ],
            "application/vnd.google.colaboratory.intrinsic+json": {
              "type": "string"
            }
          },
          "metadata": {},
          "execution_count": 68
        }
      ]
    },
    {
      "cell_type": "code",
      "source": [],
      "metadata": {
        "id": "qgGCPs9or6iU"
      },
      "execution_count": null,
      "outputs": []
    }
  ]
}